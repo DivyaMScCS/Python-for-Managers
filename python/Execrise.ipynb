{
 "cells": [
  {
   "cell_type": "markdown",
   "id": "cd21e6b9",
   "metadata": {},
   "source": [
    "1.what is a variable in python?"
   ]
  },
  {
   "cell_type": "markdown",
   "id": "ea12b642",
   "metadata": {},
   "source": [
    "Variables are containers that is used to store data's."
   ]
  },
  {
   "cell_type": "markdown",
   "id": "0eac1113",
   "metadata": {},
   "source": [
    "2.How do you create a variable"
   ]
  },
  {
   "cell_type": "markdown",
   "id": "2352da5c",
   "metadata": {},
   "source": [
    "variable are created when you assign a value to it.\n",
    "No need to defined data type keyword to create a variable in python"
   ]
  },
  {
   "cell_type": "code",
   "execution_count": 1,
   "id": "792a0a45",
   "metadata": {},
   "outputs": [],
   "source": [
    "name=\"lalitha\""
   ]
  },
  {
   "cell_type": "markdown",
   "id": "3ac3055b",
   "metadata": {},
   "source": [
    "3.How do you check the value within a variable?"
   ]
  },
  {
   "cell_type": "markdown",
   "id": "1530e4ce",
   "metadata": {},
   "source": [
    "To check the value within a variables use print function or give variable name run it"
   ]
  },
  {
   "cell_type": "code",
   "execution_count": 2,
   "id": "b0dd622c",
   "metadata": {},
   "outputs": [
    {
     "name": "stdout",
     "output_type": "stream",
     "text": [
      "lalitha\n"
     ]
    }
   ],
   "source": [
    "print(name)"
   ]
  },
  {
   "cell_type": "code",
   "execution_count": 3,
   "id": "b11ce94e",
   "metadata": {},
   "outputs": [
    {
     "data": {
      "text/plain": [
       "'lalitha'"
      ]
     },
     "execution_count": 3,
     "metadata": {},
     "output_type": "execute_result"
    }
   ],
   "source": [
    "name"
   ]
  },
  {
   "cell_type": "markdown",
   "id": "12328cd4",
   "metadata": {},
   "source": [
    "4.How do you create multiple variables in a single statement?"
   ]
  },
  {
   "cell_type": "code",
   "execution_count": 4,
   "id": "b9680f90",
   "metadata": {},
   "outputs": [],
   "source": [
    "x,y,z=10,20,30"
   ]
  },
  {
   "cell_type": "code",
   "execution_count": 7,
   "id": "706c03b2",
   "metadata": {},
   "outputs": [
    {
     "data": {
      "text/plain": [
       "10"
      ]
     },
     "execution_count": 7,
     "metadata": {},
     "output_type": "execute_result"
    }
   ],
   "source": [
    "x"
   ]
  },
  {
   "cell_type": "code",
   "execution_count": 8,
   "id": "8a0a6e95",
   "metadata": {},
   "outputs": [
    {
     "data": {
      "text/plain": [
       "20"
      ]
     },
     "execution_count": 8,
     "metadata": {},
     "output_type": "execute_result"
    }
   ],
   "source": [
    "y"
   ]
  },
  {
   "cell_type": "code",
   "execution_count": 9,
   "id": "d8083062",
   "metadata": {},
   "outputs": [
    {
     "data": {
      "text/plain": [
       "30"
      ]
     },
     "execution_count": 9,
     "metadata": {},
     "output_type": "execute_result"
    }
   ],
   "source": [
    "z"
   ]
  },
  {
   "cell_type": "markdown",
   "id": "026b4221",
   "metadata": {},
   "source": [
    "5.How do you create multiple variables with the same value?"
   ]
  },
  {
   "cell_type": "code",
   "execution_count": 10,
   "id": "943de333",
   "metadata": {},
   "outputs": [],
   "source": [
    "color1=color2=color3=\"purple\""
   ]
  },
  {
   "cell_type": "code",
   "execution_count": 11,
   "id": "0ba042c0",
   "metadata": {},
   "outputs": [
    {
     "data": {
      "text/plain": [
       "'purple'"
      ]
     },
     "execution_count": 11,
     "metadata": {},
     "output_type": "execute_result"
    }
   ],
   "source": [
    "color1"
   ]
  },
  {
   "cell_type": "code",
   "execution_count": 12,
   "id": "8ea619a4",
   "metadata": {},
   "outputs": [
    {
     "data": {
      "text/plain": [
       "'purple'"
      ]
     },
     "execution_count": 12,
     "metadata": {},
     "output_type": "execute_result"
    }
   ],
   "source": [
    "color2"
   ]
  },
  {
   "cell_type": "code",
   "execution_count": 13,
   "id": "999f912e",
   "metadata": {},
   "outputs": [
    {
     "data": {
      "text/plain": [
       "'purple'"
      ]
     },
     "execution_count": 13,
     "metadata": {},
     "output_type": "execute_result"
    }
   ],
   "source": [
    "color3"
   ]
  },
  {
   "cell_type": "markdown",
   "id": "6f4867a1",
   "metadata": {},
   "source": [
    "6.How do you change the value of a variable?"
   ]
  },
  {
   "cell_type": "markdown",
   "id": "3f326e74",
   "metadata": {},
   "source": [
    "again creating variable in same name and assigning another value or  update value using assingment  operator"
   ]
  },
  {
   "cell_type": "code",
   "execution_count": 12,
   "id": "d905214d",
   "metadata": {},
   "outputs": [
    {
     "data": {
      "text/plain": [
       "'leelavathi'"
      ]
     },
     "execution_count": 12,
     "metadata": {},
     "output_type": "execute_result"
    }
   ],
   "source": [
    "name=\"leelavathi\"\n",
    "name"
   ]
  },
  {
   "cell_type": "markdown",
   "id": "2e0b6bff",
   "metadata": {},
   "source": [
    "7.How do you reassign a variable by modifying the previous value?"
   ]
  },
  {
   "cell_type": "markdown",
   "id": "48b154c9",
   "metadata": {},
   "source": [
    "modifying the use replace function."
   ]
  },
  {
   "cell_type": "code",
   "execution_count": 14,
   "id": "1daa2e44",
   "metadata": {},
   "outputs": [
    {
     "data": {
      "text/plain": [
       "'leela P'"
      ]
     },
     "execution_count": 14,
     "metadata": {},
     "output_type": "execute_result"
    }
   ],
   "source": [
    "name.replace(\"vathi\",\" P\")"
   ]
  },
  {
   "cell_type": "markdown",
   "id": "2cec2a8d",
   "metadata": {},
   "source": [
    "8.What does the statement counter += 4 do?"
   ]
  },
  {
   "cell_type": "markdown",
   "id": "f9dc8c04",
   "metadata": {},
   "source": [
    " the statement counter +=4  increment counter variable. In this counter variable is incremented by 4."
   ]
  },
  {
   "cell_type": "markdown",
   "id": "038ab5a0",
   "metadata": {},
   "source": [
    "9.What are the rules for naming a variable?"
   ]
  },
  {
   "cell_type": "markdown",
   "id": "3275159b",
   "metadata": {},
   "source": [
    "* A variable name must start with a letter or the underscore character\n",
    "* A variable name cannot start with a number\n",
    "* A variable name can only contain lowercase or uppercase letters,digits or number.\n",
    "* Variable name are case sensitive"
   ]
  },
  {
   "cell_type": "markdown",
   "id": "e564caa0",
   "metadata": {},
   "source": [
    "10.Are variable names case-sensitive? Do a_variable, A_Variable, and A_VARIABLE represent the same variable or different ones"
   ]
  },
  {
   "cell_type": "markdown",
   "id": "4f16dc2e",
   "metadata": {},
   "source": [
    "Yes, variable names are case sensitive."
   ]
  },
  {
   "cell_type": "markdown",
   "id": "7fc6fcdb",
   "metadata": {},
   "source": [
    "a_variable, A_Variable and A_VARIABLE represent different ones, because in python variable case sensitive. It will take these as different variables."
   ]
  },
  {
   "cell_type": "code",
   "execution_count": 20,
   "id": "8f1571cb",
   "metadata": {},
   "outputs": [
    {
     "data": {
      "text/plain": [
       "23"
      ]
     },
     "execution_count": 20,
     "metadata": {},
     "output_type": "execute_result"
    }
   ],
   "source": [
    "a_variable = 23\n",
    "a_variable"
   ]
  },
  {
   "cell_type": "code",
   "execution_count": 21,
   "id": "22176bd8",
   "metadata": {},
   "outputs": [
    {
     "data": {
      "text/plain": [
       "34"
      ]
     },
     "execution_count": 21,
     "metadata": {},
     "output_type": "execute_result"
    }
   ],
   "source": [
    "A_Variable =34\n",
    "A_Variable"
   ]
  },
  {
   "cell_type": "code",
   "execution_count": 22,
   "id": "60041448",
   "metadata": {},
   "outputs": [
    {
     "data": {
      "text/plain": [
       "45"
      ]
     },
     "execution_count": 22,
     "metadata": {},
     "output_type": "execute_result"
    }
   ],
   "source": [
    "A_VARIABLE = 45\n",
    "A_VARIABLE"
   ]
  },
  {
   "cell_type": "markdown",
   "id": "dad75c43",
   "metadata": {},
   "source": [
    "11.What is Syntax? Why is it important?"
   ]
  },
  {
   "cell_type": "markdown",
   "id": "46bdc5c5",
   "metadata": {},
   "source": [
    "syntax defines a set of rules that are used to create a  Program."
   ]
  },
  {
   "cell_type": "markdown",
   "id": "b0208775",
   "metadata": {},
   "source": [
    "it is important because we can't understand the code's. If we don't have syntax it will give many error's in programming.\n",
    "Syntax is very important for programming."
   ]
  },
  {
   "cell_type": "markdown",
   "id": "fb8ec6f3",
   "metadata": {},
   "source": [
    "12.What happens if you execute a statement with invalid syntax?"
   ]
  },
  {
   "cell_type": "markdown",
   "id": "a9128019",
   "metadata": {},
   "source": [
    "if we execute a statement with invalid syntax python will give syntax error."
   ]
  },
  {
   "cell_type": "code",
   "execution_count": 24,
   "id": "4d5445fc",
   "metadata": {},
   "outputs": [
    {
     "ename": "SyntaxError",
     "evalue": "invalid syntax (3219291532.py, line 1)",
     "output_type": "error",
     "traceback": [
      "\u001b[1;36m  Cell \u001b[1;32mIn[24], line 1\u001b[1;36m\u001b[0m\n\u001b[1;33m    name2[]=lalitha\u001b[0m\n\u001b[1;37m          ^\u001b[0m\n\u001b[1;31mSyntaxError\u001b[0m\u001b[1;31m:\u001b[0m invalid syntax\n"
     ]
    }
   ],
   "source": [
    "name2[]=lalitha"
   ]
  },
  {
   "cell_type": "markdown",
   "id": "51ce4c59",
   "metadata": {},
   "source": [
    "13.How do you check the data type of a variable?"
   ]
  },
  {
   "cell_type": "markdown",
   "id": "af7bec0f",
   "metadata": {},
   "source": [
    "to check variable's data type use type() function."
   ]
  },
  {
   "cell_type": "code",
   "execution_count": 25,
   "id": "b654d6d2",
   "metadata": {},
   "outputs": [
    {
     "data": {
      "text/plain": [
       "str"
      ]
     },
     "execution_count": 25,
     "metadata": {},
     "output_type": "execute_result"
    }
   ],
   "source": [
    "type(name)"
   ]
  },
  {
   "cell_type": "markdown",
   "id": "98194c52",
   "metadata": {},
   "source": [
    "14.What are the built-in data types in Python?"
   ]
  },
  {
   "cell_type": "markdown",
   "id": "bf7a8b1b",
   "metadata": {},
   "source": [
    "**text type**:str\n",
    "**Numeric Types**:\tint, float, complex\n",
    "**Sequence Types**:\tlist, tuple, range\n",
    "**Mapping Type**:\tdict\n",
    "**Set Types**:\tset, frozenset\n",
    "**Boolean Type**:\tbool\n",
    "**Binary Types**:\tbytes, bytearray, memoryview\n",
    "**None Type**:\tNoneType"
   ]
  },
  {
   "cell_type": "markdown",
   "id": "9977c00d",
   "metadata": {},
   "source": [
    "15.What is a primitive data type?"
   ]
  },
  {
   "cell_type": "markdown",
   "id": "75e95508",
   "metadata": {},
   "source": [
    "primitive data types are a set of basic data types from which all other data types are constructed."
   ]
  },
  {
   "cell_type": "markdown",
   "id": "786da4b1",
   "metadata": {},
   "source": [
    " primitive data types are integer,boolean,string,float."
   ]
  },
  {
   "cell_type": "markdown",
   "id": "79b5bcdb",
   "metadata": {},
   "source": [
    "16.What are the primitive data types available in Python?"
   ]
  },
  {
   "cell_type": "markdown",
   "id": "739babc4",
   "metadata": {},
   "source": [
    "integer, boolean, string, float, none."
   ]
  },
  {
   "cell_type": "markdown",
   "id": "fc649cb0",
   "metadata": {},
   "source": [
    "17.What is a data structure or container data type?"
   ]
  },
  {
   "cell_type": "markdown",
   "id": "a91e9d03",
   "metadata": {},
   "source": [
    " container is a class or a data structure whose instances are collections of other objects. they store objects in an organized way that follows specific access rules. The size of the container depends on the number of objects (elements) it contains."
   ]
  },
  {
   "cell_type": "markdown",
   "id": "11f6d349",
   "metadata": {},
   "source": [
    "A container is an abstract data type whose purpose is to hold objects of some other type. "
   ]
  },
  {
   "cell_type": "markdown",
   "id": "ad7634e2",
   "metadata": {},
   "source": [
    "18.What are the container types available in Python? "
   ]
  },
  {
   "cell_type": "markdown",
   "id": "b3a48a47",
   "metadata": {},
   "source": [
    "The container types available in python is: list,tuple,dictionary,set"
   ]
  },
  {
   "cell_type": "code",
   "execution_count": 1,
   "id": "6223e470",
   "metadata": {},
   "outputs": [
    {
     "data": {
      "text/plain": [
       "[1, 2, 3, 4]"
      ]
     },
     "execution_count": 1,
     "metadata": {},
     "output_type": "execute_result"
    }
   ],
   "source": [
    "list1=[1,2,3,4]\n",
    "list1"
   ]
  },
  {
   "cell_type": "code",
   "execution_count": 2,
   "id": "04bc7169",
   "metadata": {},
   "outputs": [
    {
     "data": {
      "text/plain": [
       "(1, 2, 3, 4)"
      ]
     },
     "execution_count": 2,
     "metadata": {},
     "output_type": "execute_result"
    }
   ],
   "source": [
    "tuple1=(1,2,3,4)\n",
    "tuple1"
   ]
  },
  {
   "cell_type": "code",
   "execution_count": 3,
   "id": "2daff60c",
   "metadata": {},
   "outputs": [
    {
     "data": {
      "text/plain": [
       "{'name': 'lalitha', 'age': 20}"
      ]
     },
     "execution_count": 3,
     "metadata": {},
     "output_type": "execute_result"
    }
   ],
   "source": [
    "dictionary ={\n",
    "    'name':'lalitha',\n",
    "     'age':20\n",
    "}\n",
    "dictionary"
   ]
  },
  {
   "cell_type": "code",
   "execution_count": 4,
   "id": "d99501d4",
   "metadata": {},
   "outputs": [
    {
     "data": {
      "text/plain": [
       "{'apple', 'banana', 'grapes'}"
      ]
     },
     "execution_count": 4,
     "metadata": {},
     "output_type": "execute_result"
    }
   ],
   "source": [
    "sets={'apple','banana','grapes'}\n",
    "sets"
   ]
  },
  {
   "cell_type": "markdown",
   "id": "682285ff",
   "metadata": {},
   "source": [
    "19.What kind of data does the Integer data type represent?"
   ]
  },
  {
   "cell_type": "markdown",
   "id": "49090e37",
   "metadata": {},
   "source": [
    "integer represent positive or negative whole number."
   ]
  },
  {
   "cell_type": "code",
   "execution_count": 5,
   "id": "961ab23b",
   "metadata": {},
   "outputs": [
    {
     "data": {
      "text/plain": [
       "234"
      ]
     },
     "execution_count": 5,
     "metadata": {},
     "output_type": "execute_result"
    }
   ],
   "source": [
    "int1=234\n",
    "int1"
   ]
  },
  {
   "cell_type": "code",
   "execution_count": 6,
   "id": "3796e86a",
   "metadata": {},
   "outputs": [
    {
     "data": {
      "text/plain": [
       "-234"
      ]
     },
     "execution_count": 6,
     "metadata": {},
     "output_type": "execute_result"
    }
   ],
   "source": [
    "int2=-234\n",
    "int2"
   ]
  },
  {
   "cell_type": "markdown",
   "id": "d6c325d2",
   "metadata": {},
   "source": [
    "20.What are the numerical limits of the integer data type?"
   ]
  },
  {
   "cell_type": "markdown",
   "id": "a1213012",
   "metadata": {},
   "source": [
    "the numerical limits of the integer data type is between -2,147,483,647 to 2,147,483,647 for 9 or 10 digits of precision."
   ]
  },
  {
   "cell_type": "markdown",
   "id": "f74447d4",
   "metadata": {},
   "source": [
    "But in Python, there is no limit to how long an integer value can be."
   ]
  },
  {
   "cell_type": "code",
   "execution_count": 8,
   "id": "bb38e04d",
   "metadata": {},
   "outputs": [
    {
     "data": {
      "text/plain": [
       "2147483649"
      ]
     },
     "execution_count": 8,
     "metadata": {},
     "output_type": "execute_result"
    }
   ],
   "source": [
    "int3=2147483649\n",
    "int3"
   ]
  },
  {
   "cell_type": "markdown",
   "id": "4815f518",
   "metadata": {},
   "source": [
    "21.What kind of data does the float data type represent?"
   ]
  },
  {
   "cell_type": "markdown",
   "id": "d4338541",
   "metadata": {},
   "source": [
    "the float data type represent decimal point.there are no limits in the value or the number of digits before or after decimal point."
   ]
  },
  {
   "cell_type": "code",
   "execution_count": 7,
   "id": "96f1d958",
   "metadata": {},
   "outputs": [
    {
     "data": {
      "text/plain": [
       "344.6678"
      ]
     },
     "execution_count": 7,
     "metadata": {},
     "output_type": "execute_result"
    }
   ],
   "source": [
    "float1=344.6678\n",
    "float1"
   ]
  },
  {
   "cell_type": "code",
   "execution_count": 8,
   "id": "a22d5d3f",
   "metadata": {},
   "outputs": [
    {
     "data": {
      "text/plain": [
       "-3454.68769"
      ]
     },
     "execution_count": 8,
     "metadata": {},
     "output_type": "execute_result"
    }
   ],
   "source": [
    "float2=-3454.68769\n",
    "float2"
   ]
  },
  {
   "cell_type": "markdown",
   "id": "63e58cfd",
   "metadata": {},
   "source": [
    "22.How does Python decide if a given number is a float or an integer?"
   ]
  },
  {
   "cell_type": "markdown",
   "id": "4e87db77",
   "metadata": {},
   "source": [
    "if your variable has decimal point value python automatically take it as float. If your variable has whole number value in takes as integer."
   ]
  },
  {
   "cell_type": "code",
   "execution_count": 9,
   "id": "bf5560ab",
   "metadata": {},
   "outputs": [
    {
     "data": {
      "text/plain": [
       "20"
      ]
     },
     "execution_count": 9,
     "metadata": {},
     "output_type": "execute_result"
    }
   ],
   "source": [
    "age=20\n",
    "age"
   ]
  },
  {
   "cell_type": "code",
   "execution_count": 10,
   "id": "49bfd4ff",
   "metadata": {},
   "outputs": [
    {
     "data": {
      "text/plain": [
       "150.55"
      ]
     },
     "execution_count": 10,
     "metadata": {},
     "output_type": "execute_result"
    }
   ],
   "source": [
    "height=150.55\n",
    "height"
   ]
  },
  {
   "cell_type": "markdown",
   "id": "d2a79761",
   "metadata": {},
   "source": [
    "23.How can you create a variable which stores a whole number, e.g., 4 but has the float data type?"
   ]
  },
  {
   "cell_type": "code",
   "execution_count": 12,
   "id": "769aa878",
   "metadata": {},
   "outputs": [
    {
     "data": {
      "text/plain": [
       "4.0"
      ]
     },
     "execution_count": 12,
     "metadata": {},
     "output_type": "execute_result"
    }
   ],
   "source": [
    "a= float(4)\n",
    "a"
   ]
  },
  {
   "cell_type": "markdown",
   "id": "bfa86a69",
   "metadata": {},
   "source": [
    "24.How do you create floats representing very large (e.g., 6.023 x 10^23) or very small numbers (0.000000123)?"
   ]
  },
  {
   "cell_type": "code",
   "execution_count": 20,
   "id": "e7f265f0",
   "metadata": {},
   "outputs": [
    {
     "name": "stdout",
     "output_type": "stream",
     "text": [
      "6.023e+23\n"
     ]
    }
   ],
   "source": [
    "c=6.023e23\n",
    "print(c)"
   ]
  },
  {
   "cell_type": "code",
   "execution_count": 24,
   "id": "c3330774",
   "metadata": {},
   "outputs": [
    {
     "data": {
      "text/plain": [
       "1.23e-07"
      ]
     },
     "execution_count": 24,
     "metadata": {},
     "output_type": "execute_result"
    }
   ],
   "source": [
    "c2=123e-9\n",
    "c2"
   ]
  },
  {
   "cell_type": "markdown",
   "id": "06cad71c",
   "metadata": {},
   "source": [
    "25.What does the expression 23e-12 represent?"
   ]
  },
  {
   "cell_type": "code",
   "execution_count": 13,
   "id": "2b0d891d",
   "metadata": {},
   "outputs": [
    {
     "data": {
      "text/plain": [
       "2.3e-11"
      ]
     },
     "execution_count": 13,
     "metadata": {},
     "output_type": "execute_result"
    }
   ],
   "source": [
    "b=23e-12\n",
    "b"
   ]
  },
  {
   "cell_type": "markdown",
   "id": "28641bc2",
   "metadata": {},
   "source": [
    "26.Can floats be used to store numbers with unlimited precision?"
   ]
  },
  {
   "cell_type": "markdown",
   "id": "28b5c8c9",
   "metadata": {},
   "source": [
    "floating point numbers can only store a certain number of significant digits"
   ]
  },
  {
   "cell_type": "markdown",
   "id": "da5c306b",
   "metadata": {},
   "source": [
    "* Python float values are represented as 64-bit double-precision values. 1.8 X 10308 is an approximate maximum value for any floating-point number.\n",
    "* Floats have limited precision, which means that you may lose some precision when performing arithmetic operations."
   ]
  },
  {
   "cell_type": "code",
   "execution_count": 5,
   "id": "33357814",
   "metadata": {},
   "outputs": [
    {
     "data": {
      "text/plain": [
       "inf"
      ]
     },
     "execution_count": 5,
     "metadata": {},
     "output_type": "execute_result"
    }
   ],
   "source": [
    "d=1.82e310\n",
    "d"
   ]
  },
  {
   "cell_type": "markdown",
   "id": "10bc1a07",
   "metadata": {},
   "source": [
    "27.What are the differences between integers and floats?"
   ]
  },
  {
   "cell_type": "markdown",
   "id": "0a02985b",
   "metadata": {},
   "source": [
    "* integer stores positive or negstive whole number\n",
    "* float stores real number like 2.35,65.67.decimal point values\n",
    "* you can't store decimal value in integer.\n",
    "* integer has limit -2,147,483,647 to 2,147,483,647 for 9 or 10 digits of precision.But in Python, there is no limit to how long an integer value can be.\n",
    "* Floats have limited precision, which means that you may lose some precision when performing arithmetic operations."
   ]
  },
  {
   "cell_type": "code",
   "execution_count": 10,
   "id": "97d6debe",
   "metadata": {},
   "outputs": [
    {
     "data": {
      "text/plain": [
       "-2147283649"
      ]
     },
     "execution_count": 10,
     "metadata": {},
     "output_type": "execute_result"
    }
   ],
   "source": [
    "int4=-2147283649\n",
    "int4"
   ]
  },
  {
   "cell_type": "markdown",
   "id": "8f59e75d",
   "metadata": {},
   "source": [
    "28.How do you convert an integer to a float?"
   ]
  },
  {
   "cell_type": "markdown",
   "id": "8dc16187",
   "metadata": {},
   "source": [
    "You can convert integer to float using float() function."
   ]
  },
  {
   "cell_type": "code",
   "execution_count": 11,
   "id": "19a6865f",
   "metadata": {},
   "outputs": [
    {
     "data": {
      "text/plain": [
       "56.0"
      ]
     },
     "execution_count": 11,
     "metadata": {},
     "output_type": "execute_result"
    }
   ],
   "source": [
    "int_to_float=float(56)\n",
    "int_to_float"
   ]
  },
  {
   "cell_type": "markdown",
   "id": "47ff7275",
   "metadata": {},
   "source": [
    "29.How do you convert a float to an integer?"
   ]
  },
  {
   "cell_type": "markdown",
   "id": "4f076aad",
   "metadata": {},
   "source": [
    "You can also convert float to integer using int() function."
   ]
  },
  {
   "cell_type": "code",
   "execution_count": 12,
   "id": "1ad7233e",
   "metadata": {},
   "outputs": [
    {
     "data": {
      "text/plain": [
       "45"
      ]
     },
     "execution_count": 12,
     "metadata": {},
     "output_type": "execute_result"
    }
   ],
   "source": [
    "float_to_int=int(45.78)\n",
    "float_to_int"
   ]
  },
  {
   "cell_type": "markdown",
   "id": "5d664985",
   "metadata": {},
   "source": [
    "30.What is the result obtained when you convert 1.99 to an integer?"
   ]
  },
  {
   "cell_type": "code",
   "execution_count": 13,
   "id": "28fbb00c",
   "metadata": {},
   "outputs": [
    {
     "data": {
      "text/plain": [
       "1"
      ]
     },
     "execution_count": 13,
     "metadata": {},
     "output_type": "execute_result"
    }
   ],
   "source": [
    "int5=int(1.99)\n",
    "int5"
   ]
  },
  {
   "cell_type": "markdown",
   "id": "df828a11",
   "metadata": {},
   "source": [
    "if we convert 1.99 to integer, it will give 1 as answer."
   ]
  },
  {
   "cell_type": "markdown",
   "id": "ee56de8b",
   "metadata": {},
   "source": [
    "31.What are the data types of the results of the division operators / and //?"
   ]
  },
  {
   "cell_type": "markdown",
   "id": "2b343358",
   "metadata": {},
   "source": [
    "* division operator / is a float data type because the result we get is deciaml value.\n",
    "* division operator // is a integer data type because the result of this operator is whole number. It will round off the decimal result."
   ]
  },
  {
   "cell_type": "code",
   "execution_count": 14,
   "id": "dd6861e3",
   "metadata": {},
   "outputs": [
    {
     "data": {
      "text/plain": [
       "0.6764705882352942"
      ]
     },
     "execution_count": 14,
     "metadata": {},
     "output_type": "execute_result"
    }
   ],
   "source": [
    "division1 = 23/34\n",
    "division1"
   ]
  },
  {
   "cell_type": "code",
   "execution_count": 15,
   "id": "b6a68594",
   "metadata": {},
   "outputs": [
    {
     "data": {
      "text/plain": [
       "float"
      ]
     },
     "execution_count": 15,
     "metadata": {},
     "output_type": "execute_result"
    }
   ],
   "source": [
    "type(division1)"
   ]
  },
  {
   "cell_type": "code",
   "execution_count": 17,
   "id": "ad754b80",
   "metadata": {},
   "outputs": [
    {
     "data": {
      "text/plain": [
       "0"
      ]
     },
     "execution_count": 17,
     "metadata": {},
     "output_type": "execute_result"
    }
   ],
   "source": [
    "division2=23//34\n",
    "division2"
   ]
  },
  {
   "cell_type": "code",
   "execution_count": 18,
   "id": "c51dc1b2",
   "metadata": {},
   "outputs": [
    {
     "data": {
      "text/plain": [
       "int"
      ]
     },
     "execution_count": 18,
     "metadata": {},
     "output_type": "execute_result"
    }
   ],
   "source": [
    "type(division2)"
   ]
  },
  {
   "cell_type": "markdown",
   "id": "63986b2a",
   "metadata": {},
   "source": [
    "32.What kind of data does the Boolean data type represent?"
   ]
  },
  {
   "cell_type": "markdown",
   "id": "a6d5d48e",
   "metadata": {},
   "source": [
    "Boolean data type represent True or False data. It only represent True or False."
   ]
  },
  {
   "cell_type": "code",
   "execution_count": 20,
   "id": "75b072f5",
   "metadata": {},
   "outputs": [
    {
     "data": {
      "text/plain": [
       "True"
      ]
     },
     "execution_count": 20,
     "metadata": {},
     "output_type": "execute_result"
    }
   ],
   "source": [
    "boolean1 = True\n",
    "boolean1"
   ]
  },
  {
   "cell_type": "code",
   "execution_count": 21,
   "id": "12818a4d",
   "metadata": {},
   "outputs": [
    {
     "data": {
      "text/plain": [
       "False"
      ]
     },
     "execution_count": 21,
     "metadata": {},
     "output_type": "execute_result"
    }
   ],
   "source": [
    "boolean2 = 34>67\n",
    "boolean2"
   ]
  },
  {
   "cell_type": "markdown",
   "id": "57215b22",
   "metadata": {},
   "source": [
    "33.Which types of Python operators return booleans as a result?"
   ]
  },
  {
   "cell_type": "markdown",
   "id": "708af095",
   "metadata": {},
   "source": [
    "* Logical and Comparision operators will give boolean as result.\n",
    "* That are >, <, >=, <=, ==, !=, and, not, or."
   ]
  },
  {
   "cell_type": "code",
   "execution_count": 22,
   "id": "736bb4d3",
   "metadata": {},
   "outputs": [
    {
     "data": {
      "text/plain": [
       "True"
      ]
     },
     "execution_count": 22,
     "metadata": {},
     "output_type": "execute_result"
    }
   ],
   "source": [
    "boolean3=78==78\n",
    "boolean3"
   ]
  },
  {
   "cell_type": "code",
   "execution_count": 25,
   "id": "5707cae1",
   "metadata": {},
   "outputs": [
    {
     "data": {
      "text/plain": [
       "False"
      ]
     },
     "execution_count": 25,
     "metadata": {},
     "output_type": "execute_result"
    }
   ],
   "source": [
    "boolean4 = True and False\n",
    "boolean4"
   ]
  },
  {
   "cell_type": "code",
   "execution_count": 26,
   "id": "4e8c8bc4",
   "metadata": {},
   "outputs": [
    {
     "data": {
      "text/plain": [
       "True"
      ]
     },
     "execution_count": 26,
     "metadata": {},
     "output_type": "execute_result"
    }
   ],
   "source": [
    "boolean5 = 56 != 67\n",
    "boolean5"
   ]
  },
  {
   "cell_type": "markdown",
   "id": "52267218",
   "metadata": {},
   "source": [
    "34.What happens if you try to use a boolean in arithmetic operation?"
   ]
  },
  {
   "cell_type": "markdown",
   "id": "ddf66e78",
   "metadata": {},
   "source": [
    "If we use arithmetic in boolean it wouldn't give any error. Instead it take True as 1 and False as 0 then do the arithmetic operation. programming language True is 1 and Fasle is 0."
   ]
  },
  {
   "cell_type": "code",
   "execution_count": 31,
   "id": "689b5216",
   "metadata": {},
   "outputs": [
    {
     "data": {
      "text/plain": [
       "35"
      ]
     },
     "execution_count": 31,
     "metadata": {},
     "output_type": "execute_result"
    }
   ],
   "source": [
    "arithmeticInBoolean = True + 34\n",
    "arithmeticInBoolean"
   ]
  },
  {
   "cell_type": "code",
   "execution_count": 32,
   "id": "b6c96de5",
   "metadata": {},
   "outputs": [
    {
     "data": {
      "text/plain": [
       "-45"
      ]
     },
     "execution_count": 32,
     "metadata": {},
     "output_type": "execute_result"
    }
   ],
   "source": [
    "arithmeticInBoolean2 = False  - 45\n",
    "arithmeticInBoolean2"
   ]
  },
  {
   "cell_type": "markdown",
   "id": "9caeb4df",
   "metadata": {},
   "source": [
    "35.How can any value in Python be covered to a boolean?"
   ]
  },
  {
   "cell_type": "markdown",
   "id": "11c8be80",
   "metadata": {},
   "source": [
    "* Evaluation of Boolean Expressions in Python\n",
    "* Mostly, if any value has some type of content in it, it is finally evaluated to True when we use the bool() method on it. In fact, except for empty strings, all the strings evaluate to True. Any number except 0, evaluates to True"
   ]
  },
  {
   "cell_type": "code",
   "execution_count": 34,
   "id": "46d0dfff",
   "metadata": {},
   "outputs": [
    {
     "data": {
      "text/plain": [
       "True"
      ]
     },
     "execution_count": 34,
     "metadata": {},
     "output_type": "execute_result"
    }
   ],
   "source": [
    "boolean6=bool(45)\n",
    "boolean6"
   ]
  },
  {
   "cell_type": "markdown",
   "id": "9ad4fad1",
   "metadata": {},
   "source": [
    "36.What are truthy and falsy values?"
   ]
  },
  {
   "cell_type": "markdown",
   "id": "3bdf46fa",
   "metadata": {},
   "source": [
    "In Python, individual values can evaluate as either True or False. Values that evaluate to True are \"Truthy\", and values that evaluate to False are \"Falsy\"."
   ]
  },
  {
   "cell_type": "markdown",
   "id": "ebc4a0dd",
   "metadata": {},
   "source": [
    "if you give inside bool function false or 0 it will give false ,it is called falsy.\n",
    "if you give true or 1 it will give true, it is called truthy."
   ]
  },
  {
   "cell_type": "code",
   "execution_count": 1,
   "id": "6bea8cf1",
   "metadata": {},
   "outputs": [
    {
     "data": {
      "text/plain": [
       "True"
      ]
     },
     "execution_count": 1,
     "metadata": {},
     "output_type": "execute_result"
    }
   ],
   "source": [
    "bool(1)"
   ]
  },
  {
   "cell_type": "code",
   "execution_count": 2,
   "id": "a27e72b3",
   "metadata": {},
   "outputs": [
    {
     "data": {
      "text/plain": [
       "True"
      ]
     },
     "execution_count": 2,
     "metadata": {},
     "output_type": "execute_result"
    }
   ],
   "source": [
    "bool(True)"
   ]
  },
  {
   "cell_type": "code",
   "execution_count": 3,
   "id": "871b6a48",
   "metadata": {},
   "outputs": [
    {
     "data": {
      "text/plain": [
       "False"
      ]
     },
     "execution_count": 3,
     "metadata": {},
     "output_type": "execute_result"
    }
   ],
   "source": [
    "bool(0)"
   ]
  },
  {
   "cell_type": "code",
   "execution_count": 4,
   "id": "11d105e6",
   "metadata": {},
   "outputs": [
    {
     "data": {
      "text/plain": [
       "False"
      ]
     },
     "execution_count": 4,
     "metadata": {},
     "output_type": "execute_result"
    }
   ],
   "source": [
    "bool(False)"
   ]
  },
  {
   "cell_type": "markdown",
   "id": "4c29cbad",
   "metadata": {},
   "source": [
    "37.What are the values in Python that evaluate to False?"
   ]
  },
  {
   "cell_type": "markdown",
   "id": "683ac4bd",
   "metadata": {},
   "source": [
    "* The number zero ( 0 )\n",
    "* An empty string ''\n",
    "* False.\n",
    "* None.\n",
    "* An empty list []\n",
    "* An empty tuple ()\n",
    "* An empty dictionary {}"
   ]
  },
  {
   "cell_type": "code",
   "execution_count": 5,
   "id": "91fac800",
   "metadata": {},
   "outputs": [
    {
     "data": {
      "text/plain": [
       "False"
      ]
     },
     "execution_count": 5,
     "metadata": {},
     "output_type": "execute_result"
    }
   ],
   "source": [
    "bool(\"\")"
   ]
  },
  {
   "cell_type": "code",
   "execution_count": 7,
   "id": "971ae54a",
   "metadata": {},
   "outputs": [
    {
     "data": {
      "text/plain": [
       "False"
      ]
     },
     "execution_count": 7,
     "metadata": {},
     "output_type": "execute_result"
    }
   ],
   "source": [
    "bool()"
   ]
  },
  {
   "cell_type": "code",
   "execution_count": 8,
   "id": "e77b39d3",
   "metadata": {},
   "outputs": [
    {
     "data": {
      "text/plain": [
       "False"
      ]
     },
     "execution_count": 8,
     "metadata": {},
     "output_type": "execute_result"
    }
   ],
   "source": [
    "bool([])"
   ]
  },
  {
   "cell_type": "code",
   "execution_count": 9,
   "id": "17033376",
   "metadata": {},
   "outputs": [
    {
     "data": {
      "text/plain": [
       "False"
      ]
     },
     "execution_count": 9,
     "metadata": {},
     "output_type": "execute_result"
    }
   ],
   "source": [
    "bool(())"
   ]
  },
  {
   "cell_type": "code",
   "execution_count": 10,
   "id": "33d368d6",
   "metadata": {},
   "outputs": [
    {
     "data": {
      "text/plain": [
       "False"
      ]
     },
     "execution_count": 10,
     "metadata": {},
     "output_type": "execute_result"
    }
   ],
   "source": [
    "bool({})"
   ]
  },
  {
   "cell_type": "markdown",
   "id": "3433bc77",
   "metadata": {},
   "source": [
    "38.Give some examples of values that evaluate to True."
   ]
  },
  {
   "cell_type": "markdown",
   "id": "306c9b1c",
   "metadata": {},
   "source": [
    "* A non-zero number (int, real or complex).\n",
    "* A non-zero length string, list, tuple, dictionary or set.\n",
    "* The True object.\n",
    "* Almost all other objects that aren't in the falsy list.\n",
    "* number (1)"
   ]
  },
  {
   "cell_type": "code",
   "execution_count": 15,
   "id": "38fdf0ee",
   "metadata": {},
   "outputs": [
    {
     "data": {
      "text/plain": [
       "True"
      ]
     },
     "execution_count": 15,
     "metadata": {},
     "output_type": "execute_result"
    }
   ],
   "source": [
    "bool(1)"
   ]
  },
  {
   "cell_type": "code",
   "execution_count": 16,
   "id": "0ef94661",
   "metadata": {},
   "outputs": [
    {
     "data": {
      "text/plain": [
       "True"
      ]
     },
     "execution_count": 16,
     "metadata": {},
     "output_type": "execute_result"
    }
   ],
   "source": [
    "bool([1,3,4])"
   ]
  },
  {
   "cell_type": "code",
   "execution_count": 17,
   "id": "7d8855a5",
   "metadata": {},
   "outputs": [
    {
     "data": {
      "text/plain": [
       "True"
      ]
     },
     "execution_count": 17,
     "metadata": {},
     "output_type": "execute_result"
    }
   ],
   "source": [
    "bool(\"lali\")"
   ]
  },
  {
   "cell_type": "code",
   "execution_count": 18,
   "id": "c146f155",
   "metadata": {},
   "outputs": [
    {
     "data": {
      "text/plain": [
       "True"
      ]
     },
     "execution_count": 18,
     "metadata": {},
     "output_type": "execute_result"
    }
   ],
   "source": [
    "bool({'car':'audi'})"
   ]
  },
  {
   "cell_type": "markdown",
   "id": "a524cf04",
   "metadata": {},
   "source": [
    "39.What kind of data does the None data type represent?"
   ]
  },
  {
   "cell_type": "markdown",
   "id": "8bb79d6a",
   "metadata": {},
   "source": [
    "None data type represent none value."
   ]
  },
  {
   "cell_type": "code",
   "execution_count": 6,
   "id": "4ae11de8",
   "metadata": {},
   "outputs": [
    {
     "name": "stdout",
     "output_type": "stream",
     "text": [
      "None\n"
     ]
    }
   ],
   "source": [
    "none1=None\n",
    "print(none1)"
   ]
  },
  {
   "cell_type": "markdown",
   "id": "57de6a44",
   "metadata": {},
   "source": [
    "40.What is the purpose of None?"
   ]
  },
  {
   "cell_type": "markdown",
   "id": "c6e0471e",
   "metadata": {},
   "source": [
    "none is used to assign when there is null value or no vlaue.\n",
    "if you have variable but don't have value to it you can define none to it.\n",
    "it wouldn't give error."
   ]
  },
  {
   "cell_type": "markdown",
   "id": "07b2b411",
   "metadata": {},
   "source": [
    "41.What kind of data does the String data type represent?"
   ]
  },
  {
   "cell_type": "markdown",
   "id": "51882577",
   "metadata": {},
   "source": [
    "String data type represent character, letter, or a text values."
   ]
  },
  {
   "cell_type": "code",
   "execution_count": 3,
   "id": "da03672d",
   "metadata": {},
   "outputs": [
    {
     "data": {
      "text/plain": [
       "'MSccs'"
      ]
     },
     "execution_count": 3,
     "metadata": {},
     "output_type": "execute_result"
    }
   ],
   "source": [
    "String = 'MSccs'\n",
    "String"
   ]
  },
  {
   "cell_type": "markdown",
   "id": "e4150343",
   "metadata": {},
   "source": [
    "42.What are the different ways of creating strings in Python?"
   ]
  },
  {
   "cell_type": "markdown",
   "id": "ad123187",
   "metadata": {},
   "source": [
    "* single Quotes\n",
    "* double Quotes\n",
    "* trible Quotes\n",
    "* str function\n",
    "* concatenation\n",
    "* String relication\n",
    "* Using escape character\n",
    "* Formatted string"
   ]
  },
  {
   "cell_type": "code",
   "execution_count": 2,
   "id": "8242d403",
   "metadata": {},
   "outputs": [
    {
     "data": {
      "text/plain": [
       "'car'"
      ]
     },
     "execution_count": 2,
     "metadata": {},
     "output_type": "execute_result"
    }
   ],
   "source": [
    "str1='car'\n",
    "str1"
   ]
  },
  {
   "cell_type": "code",
   "execution_count": 3,
   "id": "b1eae2cc",
   "metadata": {},
   "outputs": [
    {
     "data": {
      "text/plain": [
       "'bike'"
      ]
     },
     "execution_count": 3,
     "metadata": {},
     "output_type": "execute_result"
    }
   ],
   "source": [
    "str2=\"bike\"\n",
    "str2"
   ]
  },
  {
   "cell_type": "code",
   "execution_count": 4,
   "id": "4c2e0839",
   "metadata": {},
   "outputs": [
    {
     "data": {
      "text/plain": [
       "'my name is lalitha\\ni am stduying msc cs\\n'"
      ]
     },
     "execution_count": 4,
     "metadata": {},
     "output_type": "execute_result"
    }
   ],
   "source": [
    "str3=\"\"\"my name is lalitha\n",
    "i am stduying msc cs\n",
    "\"\"\"\n",
    "str3"
   ]
  },
  {
   "cell_type": "code",
   "execution_count": 6,
   "id": "1c8a5654",
   "metadata": {},
   "outputs": [
    {
     "data": {
      "text/plain": [
       "'van'"
      ]
     },
     "execution_count": 6,
     "metadata": {},
     "output_type": "execute_result"
    }
   ],
   "source": [
    "str4=str('van')\n",
    "str4"
   ]
  },
  {
   "cell_type": "markdown",
   "id": "257abf08",
   "metadata": {},
   "source": [
    "43.What is the difference between strings creating using single quotes, i.e. ' and ' vs. those created using double quotes, i.e. \" and \"?"
   ]
  },
  {
   "cell_type": "markdown",
   "id": "c6b68c91",
   "metadata": {},
   "source": [
    "* Single quotes for anything that behaves like an Identifier.\n",
    "* Double quotes generally we used for text\n",
    "* Single quotes are used for regular expressions, dict keys or SQL\n",
    "* Double quotes are used for string representation"
   ]
  },
  {
   "cell_type": "markdown",
   "id": "7e12f12c",
   "metadata": {},
   "source": [
    "44.How do you create multi-line strings in Python?"
   ]
  },
  {
   "cell_type": "markdown",
   "id": "3a568f78",
   "metadata": {},
   "source": [
    "To create multi-line string use triple quotes."
   ]
  },
  {
   "cell_type": "code",
   "execution_count": 8,
   "id": "69161559",
   "metadata": {},
   "outputs": [
    {
     "data": {
      "text/plain": [
       "'lalitha is good girl\\nliving in palladam\\nmother name leelavathi'"
      ]
     },
     "execution_count": 8,
     "metadata": {},
     "output_type": "execute_result"
    }
   ],
   "source": [
    "multiline=\"\"\"lalitha is good girl\n",
    "living in palladam\n",
    "mother name leelavathi\"\"\"\n",
    "multiline"
   ]
  },
  {
   "cell_type": "markdown",
   "id": "57926c90",
   "metadata": {},
   "source": [
    "45.What is the newline character, \\n?"
   ]
  },
  {
   "cell_type": "markdown",
   "id": "be4cf6b1",
   "metadata": {},
   "source": [
    "* It is an escape sequence.\n",
    "* After the character \\n new line will start\n",
    "* it represent a line break"
   ]
  },
  {
   "cell_type": "code",
   "execution_count": 9,
   "id": "2961e2cb",
   "metadata": {},
   "outputs": [
    {
     "name": "stdout",
     "output_type": "stream",
     "text": [
      "lalitha is good girl\n",
      "living in palladam\n",
      "mother name leelavathi\n"
     ]
    }
   ],
   "source": [
    "print(multiline)"
   ]
  },
  {
   "cell_type": "markdown",
   "id": "158fe7a1",
   "metadata": {},
   "source": [
    "46.What are escaped characters? How are they useful?"
   ]
  },
  {
   "cell_type": "markdown",
   "id": "533019a3",
   "metadata": {},
   "source": [
    "* To insert characters that are illegal in a string, use an escape character.\n",
    "* An escape character is a backslash \\ followed by the character you want to insert"
   ]
  },
  {
   "cell_type": "markdown",
   "id": "816bdee5",
   "metadata": {},
   "source": [
    "* \\' - Single Quote\t\n",
    "* \\\" - double quotes\n",
    "* \\\\ - Backslash\t\n",
    "* \\n - New Line\t\n",
    "* \\r - Carriage Return\t\n",
    "* \\t - Tab\t\n",
    "* \\b - Backspace\t\n",
    "* \\f - Form Feed\t\n",
    "* \\ooo - Octal value\t\n",
    "* \\xhh - Hex value\t\n"
   ]
  },
  {
   "cell_type": "code",
   "execution_count": 11,
   "id": "1d2f3801",
   "metadata": {
    "scrolled": true
   },
   "outputs": [
    {
     "name": "stdout",
     "output_type": "stream",
     "text": [
      "audi car is 'best'.\n"
     ]
    }
   ],
   "source": [
    "print(\"audi car is \\'best'.\")"
   ]
  },
  {
   "cell_type": "code",
   "execution_count": 12,
   "id": "b82d4d20",
   "metadata": {},
   "outputs": [
    {
     "name": "stdout",
     "output_type": "stream",
     "text": [
      "Audi is\tprice is\n",
      " high\n"
     ]
    }
   ],
   "source": [
    "print('Audi is\\tprice is\\n high')"
   ]
  },
  {
   "cell_type": "markdown",
   "id": "b027d1db",
   "metadata": {},
   "source": [
    "47.How do you check the length of a string?"
   ]
  },
  {
   "cell_type": "markdown",
   "id": "438e1aaa",
   "metadata": {},
   "source": [
    "To check string length use len() function."
   ]
  },
  {
   "cell_type": "code",
   "execution_count": 13,
   "id": "f12e4ca8",
   "metadata": {},
   "outputs": [],
   "source": [
    "Name = 'Msccs'"
   ]
  },
  {
   "cell_type": "code",
   "execution_count": 14,
   "id": "8a7bc7e0",
   "metadata": {},
   "outputs": [
    {
     "data": {
      "text/plain": [
       "5"
      ]
     },
     "execution_count": 14,
     "metadata": {},
     "output_type": "execute_result"
    }
   ],
   "source": [
    "len(Name)"
   ]
  },
  {
   "cell_type": "markdown",
   "id": "665db94b",
   "metadata": {},
   "source": [
    "48.How do you convert a string into a list of characters?"
   ]
  },
  {
   "cell_type": "markdown",
   "id": "37a7a0d2",
   "metadata": {},
   "source": [
    "split() method split a string into a list of string at every occurence of provided character.\n",
    "you can also use list data type list() to convert string to list of character."
   ]
  },
  {
   "cell_type": "code",
   "execution_count": 16,
   "id": "530c2d0d",
   "metadata": {},
   "outputs": [
    {
     "data": {
      "text/plain": [
       "['sun', 'mon', 'tue', 'wed', 'turs', 'fri']"
      ]
     },
     "execution_count": 16,
     "metadata": {},
     "output_type": "execute_result"
    }
   ],
   "source": [
    "\"sun,mon,tue,wed,turs,fri\".split(\",\")"
   ]
  },
  {
   "cell_type": "code",
   "execution_count": 32,
   "id": "8a646383",
   "metadata": {},
   "outputs": [
    {
     "data": {
      "text/plain": [
       "['M', 's', 'c', 'c', 's']"
      ]
     },
     "execution_count": 32,
     "metadata": {},
     "output_type": "execute_result"
    }
   ],
   "source": [
    "list(Name)"
   ]
  },
  {
   "cell_type": "markdown",
   "id": "cd367e83",
   "metadata": {},
   "source": [
    "49.How do you access a specific character from a string?"
   ]
  },
  {
   "cell_type": "markdown",
   "id": "4a3b7271",
   "metadata": {},
   "source": [
    "using square bracket []"
   ]
  },
  {
   "cell_type": "code",
   "execution_count": 17,
   "id": "a372fea6",
   "metadata": {},
   "outputs": [],
   "source": [
    "car='audi'"
   ]
  },
  {
   "cell_type": "code",
   "execution_count": 19,
   "id": "03539d50",
   "metadata": {},
   "outputs": [
    {
     "data": {
      "text/plain": [
       "'a'"
      ]
     },
     "execution_count": 19,
     "metadata": {},
     "output_type": "execute_result"
    }
   ],
   "source": [
    "car[0]"
   ]
  },
  {
   "cell_type": "markdown",
   "id": "23678fb1",
   "metadata": {},
   "source": [
    "50.How do you access a range of characters from a string?"
   ]
  },
  {
   "cell_type": "markdown",
   "id": "413c702e",
   "metadata": {},
   "source": [
    "same method using square bracket [ ] and giving range with colon."
   ]
  },
  {
   "cell_type": "code",
   "execution_count": 20,
   "id": "27498909",
   "metadata": {},
   "outputs": [],
   "source": [
    "range_indexing = \"MSc computer science\""
   ]
  },
  {
   "cell_type": "code",
   "execution_count": 22,
   "id": "6f7d8a54",
   "metadata": {},
   "outputs": [
    {
     "data": {
      "text/plain": [
       "' compu'"
      ]
     },
     "execution_count": 22,
     "metadata": {},
     "output_type": "execute_result"
    }
   ],
   "source": [
    "range_indexing[3:9]"
   ]
  },
  {
   "cell_type": "markdown",
   "id": "69c7fef1",
   "metadata": {},
   "source": [
    "51.How do you check if a specific character occurs in a string?"
   ]
  },
  {
   "cell_type": "markdown",
   "id": "762fccca",
   "metadata": {},
   "source": [
    "We can check if a specific character occurs in a string using in operator."
   ]
  },
  {
   "cell_type": "code",
   "execution_count": 25,
   "id": "c5d812a7",
   "metadata": {},
   "outputs": [
    {
     "data": {
      "text/plain": [
       "False"
      ]
     },
     "execution_count": 25,
     "metadata": {},
     "output_type": "execute_result"
    }
   ],
   "source": [
    "\"a\" in range_indexing"
   ]
  },
  {
   "cell_type": "markdown",
   "id": "bb84afd1",
   "metadata": {},
   "source": [
    "52.How do you check if a smaller string occurs within a bigger string?"
   ]
  },
  {
   "cell_type": "markdown",
   "id": "deefa634",
   "metadata": {},
   "source": [
    "it is also checked using in operator"
   ]
  },
  {
   "cell_type": "code",
   "execution_count": 26,
   "id": "8d6747e7",
   "metadata": {},
   "outputs": [
    {
     "data": {
      "text/plain": [
       "True"
      ]
     },
     "execution_count": 26,
     "metadata": {},
     "output_type": "execute_result"
    }
   ],
   "source": [
    "'computer' in range_indexing"
   ]
  },
  {
   "cell_type": "markdown",
   "id": "ff2a92da",
   "metadata": {},
   "source": [
    "53.How do you join two or more strings?"
   ]
  },
  {
   "cell_type": "markdown",
   "id": "fab84387",
   "metadata": {},
   "source": [
    "* using + operator\n",
    "* using format() method\n",
    "* using f-string"
   ]
  },
  {
   "cell_type": "code",
   "execution_count": 27,
   "id": "31814628",
   "metadata": {},
   "outputs": [
    {
     "data": {
      "text/plain": [
       "'lalithapalanisamy'"
      ]
     },
     "execution_count": 27,
     "metadata": {},
     "output_type": "execute_result"
    }
   ],
   "source": [
    "string2=\"lalitha\"\n",
    "string3=\"palanisamy\"\n",
    "string2+string3"
   ]
  },
  {
   "cell_type": "code",
   "execution_count": 28,
   "id": "d12441cd",
   "metadata": {},
   "outputs": [
    {
     "name": "stdout",
     "output_type": "stream",
     "text": [
      "lalithapalanisamy\n"
     ]
    }
   ],
   "source": [
    "print('{}{}'.format(string2,string3))"
   ]
  },
  {
   "cell_type": "code",
   "execution_count": 31,
   "id": "79b1713f",
   "metadata": {},
   "outputs": [
    {
     "name": "stdout",
     "output_type": "stream",
     "text": [
      "lalithapalanisamy\n"
     ]
    }
   ],
   "source": [
    "print(f'{string2}{string3}')"
   ]
  },
  {
   "cell_type": "markdown",
   "id": "fa34b0c2",
   "metadata": {},
   "source": [
    "54.What are \"methods\" in Python? How are they different from functions?"
   ]
  },
  {
   "cell_type": "markdown",
   "id": "ec5c4e2e",
   "metadata": {},
   "source": [
    "Methods are functions associated with data types and are accessed using (.) notation."
   ]
  },
  {
   "cell_type": "markdown",
   "id": "65865f54",
   "metadata": {},
   "source": [
    "Methods are a pwowerful techniques fpr associating common operatio with values of specific data types."
   ]
  },
  {
   "cell_type": "markdown",
   "id": "0c45365d",
   "metadata": {},
   "source": [
    "Methods are built-in functions that are present in python"
   ]
  },
  {
   "cell_type": "markdown",
   "id": "52a343d7",
   "metadata": {},
   "source": [
    "A function is a reusable set of instructions.it takes one or more inputs.\n",
    "Perform certain operations and often return an output"
   ]
  },
  {
   "cell_type": "markdown",
   "id": "af74accf",
   "metadata": {},
   "source": [
    "* Method definitions are always present inside a class\n",
    "* function is no need to define inside class\n",
    "* Method Associated with the class object.\n",
    "* function Not associated with any objects\n",
    "* Method requires the self as its first argument\n",
    "* function doesn’t require any self-argument"
   ]
  },
  {
   "cell_type": "markdown",
   "id": "d25f3d3b",
   "metadata": {},
   "source": [
    "55.What do the .lower, .upper and .capitalize methods on strings do?"
   ]
  },
  {
   "cell_type": "markdown",
   "id": "9ab697de",
   "metadata": {},
   "source": [
    "* .lower change upper case string to lower case string\n",
    "* .upper change lower case string to upper case string\n",
    "* .capitalize change fisrt letter of the word to upper case"
   ]
  },
  {
   "cell_type": "code",
   "execution_count": 34,
   "id": "5b5bbd93",
   "metadata": {},
   "outputs": [
    {
     "data": {
      "text/plain": [
       "'lalitha'"
      ]
     },
     "execution_count": 34,
     "metadata": {},
     "output_type": "execute_result"
    }
   ],
   "source": [
    "lowercase=\"LALITHA\"\n",
    "lowercase.lower()"
   ]
  },
  {
   "cell_type": "code",
   "execution_count": 35,
   "id": "4b71d639",
   "metadata": {},
   "outputs": [
    {
     "data": {
      "text/plain": [
       "'COMPUTER SCIENCE'"
      ]
     },
     "execution_count": 35,
     "metadata": {},
     "output_type": "execute_result"
    }
   ],
   "source": [
    "uppercase=\"computer science\"\n",
    "uppercase.upper()"
   ]
  },
  {
   "cell_type": "code",
   "execution_count": 36,
   "id": "aa582c0e",
   "metadata": {},
   "outputs": [
    {
     "data": {
      "text/plain": [
       "'Computer science'"
      ]
     },
     "execution_count": 36,
     "metadata": {},
     "output_type": "execute_result"
    }
   ],
   "source": [
    "capitalize='computer science'\n",
    "capitalize.capitalize()"
   ]
  },
  {
   "cell_type": "markdown",
   "id": "7109c1e7",
   "metadata": {},
   "source": [
    "56.How do you replace a specific part of a string with something else?"
   ]
  },
  {
   "cell_type": "markdown",
   "id": "99199626",
   "metadata": {},
   "source": [
    "We can replace a specific part using replace method."
   ]
  },
  {
   "cell_type": "markdown",
   "id": "0d45418f",
   "metadata": {},
   "source": [
    "replace method replaces a part of the string with another string."
   ]
  },
  {
   "cell_type": "code",
   "execution_count": 37,
   "id": "4cf62db3",
   "metadata": {},
   "outputs": [],
   "source": [
    "replaces=\"wednesday\""
   ]
  },
  {
   "cell_type": "code",
   "execution_count": 38,
   "id": "d91d44d9",
   "metadata": {},
   "outputs": [
    {
     "data": {
      "text/plain": [
       "'Thursday'"
      ]
     },
     "execution_count": 38,
     "metadata": {},
     "output_type": "execute_result"
    }
   ],
   "source": [
    "replaces.replace(\"wednes\",\"Thurs\")"
   ]
  },
  {
   "cell_type": "markdown",
   "id": "bbd0ede1",
   "metadata": {},
   "source": [
    "57.How do you split the string \"Sun,Mon,Tue,Wed,Thu,Fri,Sat\" into a list of days?"
   ]
  },
  {
   "cell_type": "markdown",
   "id": "f955b857",
   "metadata": {},
   "source": [
    "using split() method.\n",
    "Split()method split string into a list of string at every occurence of provided character."
   ]
  },
  {
   "cell_type": "code",
   "execution_count": 40,
   "id": "c717368d",
   "metadata": {},
   "outputs": [
    {
     "data": {
      "text/plain": [
       "['Sun', 'Mon', 'Tue', 'Wed', 'Thu', 'Fri', 'Sat']"
      ]
     },
     "execution_count": 40,
     "metadata": {},
     "output_type": "execute_result"
    }
   ],
   "source": [
    "lists=\"Sun,Mon,Tue,Wed,Thu,Fri,Sat\" .split(\",\")\n",
    "lists"
   ]
  },
  {
   "cell_type": "markdown",
   "id": "44ecea0c",
   "metadata": {},
   "source": [
    "58.How do you remove whitespace from the beginning and end of a string?"
   ]
  },
  {
   "cell_type": "markdown",
   "id": "05743bb8",
   "metadata": {},
   "source": [
    "using strip () method,it removes whitespace from beginning and end of a string."
   ]
  },
  {
   "cell_type": "code",
   "execution_count": 1,
   "id": "fdb9c734",
   "metadata": {},
   "outputs": [
    {
     "data": {
      "text/plain": [
       "'lalitha'"
      ]
     },
     "execution_count": 1,
     "metadata": {},
     "output_type": "execute_result"
    }
   ],
   "source": [
    "space=\"   lalitha      \"\n",
    "space.strip()"
   ]
  },
  {
   "cell_type": "markdown",
   "id": "0f3810f2",
   "metadata": {},
   "source": [
    "59.What is the string .format method used for? Can you give an example?"
   ]
  },
  {
   "cell_type": "markdown",
   "id": "6e1b50d5",
   "metadata": {},
   "source": [
    "format method used for combines value of other data type e.g integer,float,boolean,list.It is use also concatenate a string."
   ]
  },
  {
   "cell_type": "markdown",
   "id": "cdea0a03",
   "metadata": {},
   "source": [
    "Use format to construct output message display."
   ]
  },
  {
   "cell_type": "code",
   "execution_count": 2,
   "id": "b850b50e",
   "metadata": {},
   "outputs": [],
   "source": [
    "mark= 50\n",
    "name=\"ajay\""
   ]
  },
  {
   "cell_type": "code",
   "execution_count": 5,
   "id": "e40f3e9d",
   "metadata": {},
   "outputs": [
    {
     "name": "stdout",
     "output_type": "stream",
     "text": [
      "ajay mark is 50\n"
     ]
    }
   ],
   "source": [
    "print(\"{} mark is {}\".format(name,mark))"
   ]
  },
  {
   "cell_type": "markdown",
   "id": "bc799466",
   "metadata": {},
   "source": [
    "60.What are the benefits of using the .format method instead of string concatenation?"
   ]
  },
  {
   "cell_type": "markdown",
   "id": "e571b1b5",
   "metadata": {},
   "source": [
    "the benefits of using .format instead of string concatenation:\n",
    "   * Easy concatenated and easly readed\n",
    "   * We can concatenate another type variable to string.\n",
    "   * It is very easy method to concatenate string to another variables\n",
    "   * USe placeholder {} to concatenate variable."
   ]
  },
  {
   "cell_type": "markdown",
   "id": "76e882cd",
   "metadata": {},
   "source": [
    "61.How do you convert a value of another type to a string?"
   ]
  },
  {
   "cell_type": "markdown",
   "id": "a3aecbf4",
   "metadata": {},
   "source": [
    "To convert another type value to string use str() function."
   ]
  },
  {
   "cell_type": "code",
   "execution_count": 2,
   "id": "6ea91ab6",
   "metadata": {},
   "outputs": [
    {
     "data": {
      "text/plain": [
       "'44'"
      ]
     },
     "execution_count": 2,
     "metadata": {},
     "output_type": "execute_result"
    }
   ],
   "source": [
    "str(44)"
   ]
  },
  {
   "cell_type": "code",
   "execution_count": 3,
   "id": "904b854f",
   "metadata": {},
   "outputs": [
    {
     "data": {
      "text/plain": [
       "'True'"
      ]
     },
     "execution_count": 3,
     "metadata": {},
     "output_type": "execute_result"
    }
   ],
   "source": [
    "str(True)"
   ]
  },
  {
   "cell_type": "markdown",
   "id": "7fc3bfdf",
   "metadata": {},
   "source": [
    "62.How do you check if two strings have the same value?"
   ]
  },
  {
   "cell_type": "markdown",
   "id": "7ae80781",
   "metadata": {},
   "source": [
    "To check if two string have same value use == operator."
   ]
  },
  {
   "cell_type": "code",
   "execution_count": 5,
   "id": "83a97b9a",
   "metadata": {},
   "outputs": [],
   "source": [
    "str6 = \"name\"\n",
    "str7 =\"name\""
   ]
  },
  {
   "cell_type": "code",
   "execution_count": 6,
   "id": "1dd2ba51",
   "metadata": {},
   "outputs": [
    {
     "data": {
      "text/plain": [
       "True"
      ]
     },
     "execution_count": 6,
     "metadata": {},
     "output_type": "execute_result"
    }
   ],
   "source": [
    "str6 == str7"
   ]
  },
  {
   "cell_type": "code",
   "execution_count": 7,
   "id": "48f05d0a",
   "metadata": {},
   "outputs": [],
   "source": [
    "str8 = \"age\""
   ]
  },
  {
   "cell_type": "code",
   "execution_count": 8,
   "id": "a9631ef6",
   "metadata": {},
   "outputs": [
    {
     "data": {
      "text/plain": [
       "False"
      ]
     },
     "execution_count": 8,
     "metadata": {},
     "output_type": "execute_result"
    }
   ],
   "source": [
    "str6 == str8"
   ]
  },
  {
   "cell_type": "markdown",
   "id": "c9b01306",
   "metadata": {},
   "source": [
    "63.Where can you find the list of all the methods supported by strings?"
   ]
  },
  {
   "cell_type": "markdown",
   "id": "6c5b10d1",
   "metadata": {},
   "source": [
    "We can find in python official documentation \"docs.python.org string\" in this link you can find it. inside this documetation topic python string methods."
   ]
  },
  {
   "cell_type": "markdown",
   "id": "ee7eb8a5",
   "metadata": {},
   "source": [
    "you can also use help function to find it"
   ]
  },
  {
   "cell_type": "code",
   "execution_count": 20,
   "id": "16f235f5",
   "metadata": {},
   "outputs": [
    {
     "name": "stdout",
     "output_type": "stream",
     "text": [
      "Help on class str in module builtins:\n",
      "\n",
      "class str(object)\n",
      " |  str(object='') -> str\n",
      " |  str(bytes_or_buffer[, encoding[, errors]]) -> str\n",
      " |  \n",
      " |  Create a new string object from the given object. If encoding or\n",
      " |  errors is specified, then the object must expose a data buffer\n",
      " |  that will be decoded using the given encoding and error handler.\n",
      " |  Otherwise, returns the result of object.__str__() (if defined)\n",
      " |  or repr(object).\n",
      " |  encoding defaults to sys.getdefaultencoding().\n",
      " |  errors defaults to 'strict'.\n",
      " |  \n",
      " |  Methods defined here:\n",
      " |  \n",
      " |  __add__(self, value, /)\n",
      " |      Return self+value.\n",
      " |  \n",
      " |  __contains__(self, key, /)\n",
      " |      Return key in self.\n",
      " |  \n",
      " |  __eq__(self, value, /)\n",
      " |      Return self==value.\n",
      " |  \n",
      " |  __format__(self, format_spec, /)\n",
      " |      Return a formatted version of the string as described by format_spec.\n",
      " |  \n",
      " |  __ge__(self, value, /)\n",
      " |      Return self>=value.\n",
      " |  \n",
      " |  __getattribute__(self, name, /)\n",
      " |      Return getattr(self, name).\n",
      " |  \n",
      " |  __getitem__(self, key, /)\n",
      " |      Return self[key].\n",
      " |  \n",
      " |  __getnewargs__(...)\n",
      " |  \n",
      " |  __gt__(self, value, /)\n",
      " |      Return self>value.\n",
      " |  \n",
      " |  __hash__(self, /)\n",
      " |      Return hash(self).\n",
      " |  \n",
      " |  __iter__(self, /)\n",
      " |      Implement iter(self).\n",
      " |  \n",
      " |  __le__(self, value, /)\n",
      " |      Return self<=value.\n",
      " |  \n",
      " |  __len__(self, /)\n",
      " |      Return len(self).\n",
      " |  \n",
      " |  __lt__(self, value, /)\n",
      " |      Return self<value.\n",
      " |  \n",
      " |  __mod__(self, value, /)\n",
      " |      Return self%value.\n",
      " |  \n",
      " |  __mul__(self, value, /)\n",
      " |      Return self*value.\n",
      " |  \n",
      " |  __ne__(self, value, /)\n",
      " |      Return self!=value.\n",
      " |  \n",
      " |  __repr__(self, /)\n",
      " |      Return repr(self).\n",
      " |  \n",
      " |  __rmod__(self, value, /)\n",
      " |      Return value%self.\n",
      " |  \n",
      " |  __rmul__(self, value, /)\n",
      " |      Return value*self.\n",
      " |  \n",
      " |  __sizeof__(self, /)\n",
      " |      Return the size of the string in memory, in bytes.\n",
      " |  \n",
      " |  __str__(self, /)\n",
      " |      Return str(self).\n",
      " |  \n",
      " |  capitalize(self, /)\n",
      " |      Return a capitalized version of the string.\n",
      " |      \n",
      " |      More specifically, make the first character have upper case and the rest lower\n",
      " |      case.\n",
      " |  \n",
      " |  casefold(self, /)\n",
      " |      Return a version of the string suitable for caseless comparisons.\n",
      " |  \n",
      " |  center(self, width, fillchar=' ', /)\n",
      " |      Return a centered string of length width.\n",
      " |      \n",
      " |      Padding is done using the specified fill character (default is a space).\n",
      " |  \n",
      " |  count(...)\n",
      " |      S.count(sub[, start[, end]]) -> int\n",
      " |      \n",
      " |      Return the number of non-overlapping occurrences of substring sub in\n",
      " |      string S[start:end].  Optional arguments start and end are\n",
      " |      interpreted as in slice notation.\n",
      " |  \n",
      " |  encode(self, /, encoding='utf-8', errors='strict')\n",
      " |      Encode the string using the codec registered for encoding.\n",
      " |      \n",
      " |      encoding\n",
      " |        The encoding in which to encode the string.\n",
      " |      errors\n",
      " |        The error handling scheme to use for encoding errors.\n",
      " |        The default is 'strict' meaning that encoding errors raise a\n",
      " |        UnicodeEncodeError.  Other possible values are 'ignore', 'replace' and\n",
      " |        'xmlcharrefreplace' as well as any other name registered with\n",
      " |        codecs.register_error that can handle UnicodeEncodeErrors.\n",
      " |  \n",
      " |  endswith(...)\n",
      " |      S.endswith(suffix[, start[, end]]) -> bool\n",
      " |      \n",
      " |      Return True if S ends with the specified suffix, False otherwise.\n",
      " |      With optional start, test S beginning at that position.\n",
      " |      With optional end, stop comparing S at that position.\n",
      " |      suffix can also be a tuple of strings to try.\n",
      " |  \n",
      " |  expandtabs(self, /, tabsize=8)\n",
      " |      Return a copy where all tab characters are expanded using spaces.\n",
      " |      \n",
      " |      If tabsize is not given, a tab size of 8 characters is assumed.\n",
      " |  \n",
      " |  find(...)\n",
      " |      S.find(sub[, start[, end]]) -> int\n",
      " |      \n",
      " |      Return the lowest index in S where substring sub is found,\n",
      " |      such that sub is contained within S[start:end].  Optional\n",
      " |      arguments start and end are interpreted as in slice notation.\n",
      " |      \n",
      " |      Return -1 on failure.\n",
      " |  \n",
      " |  format(...)\n",
      " |      S.format(*args, **kwargs) -> str\n",
      " |      \n",
      " |      Return a formatted version of S, using substitutions from args and kwargs.\n",
      " |      The substitutions are identified by braces ('{' and '}').\n",
      " |  \n",
      " |  format_map(...)\n",
      " |      S.format_map(mapping) -> str\n",
      " |      \n",
      " |      Return a formatted version of S, using substitutions from mapping.\n",
      " |      The substitutions are identified by braces ('{' and '}').\n",
      " |  \n",
      " |  index(...)\n",
      " |      S.index(sub[, start[, end]]) -> int\n",
      " |      \n",
      " |      Return the lowest index in S where substring sub is found,\n",
      " |      such that sub is contained within S[start:end].  Optional\n",
      " |      arguments start and end are interpreted as in slice notation.\n",
      " |      \n",
      " |      Raises ValueError when the substring is not found.\n",
      " |  \n",
      " |  isalnum(self, /)\n",
      " |      Return True if the string is an alpha-numeric string, False otherwise.\n",
      " |      \n",
      " |      A string is alpha-numeric if all characters in the string are alpha-numeric and\n",
      " |      there is at least one character in the string.\n",
      " |  \n",
      " |  isalpha(self, /)\n",
      " |      Return True if the string is an alphabetic string, False otherwise.\n",
      " |      \n",
      " |      A string is alphabetic if all characters in the string are alphabetic and there\n",
      " |      is at least one character in the string.\n",
      " |  \n",
      " |  isascii(self, /)\n",
      " |      Return True if all characters in the string are ASCII, False otherwise.\n",
      " |      \n",
      " |      ASCII characters have code points in the range U+0000-U+007F.\n",
      " |      Empty string is ASCII too.\n",
      " |  \n",
      " |  isdecimal(self, /)\n",
      " |      Return True if the string is a decimal string, False otherwise.\n",
      " |      \n",
      " |      A string is a decimal string if all characters in the string are decimal and\n",
      " |      there is at least one character in the string.\n",
      " |  \n",
      " |  isdigit(self, /)\n",
      " |      Return True if the string is a digit string, False otherwise.\n",
      " |      \n",
      " |      A string is a digit string if all characters in the string are digits and there\n",
      " |      is at least one character in the string.\n",
      " |  \n",
      " |  isidentifier(self, /)\n",
      " |      Return True if the string is a valid Python identifier, False otherwise.\n",
      " |      \n",
      " |      Call keyword.iskeyword(s) to test whether string s is a reserved identifier,\n",
      " |      such as \"def\" or \"class\".\n",
      " |  \n",
      " |  islower(self, /)\n",
      " |      Return True if the string is a lowercase string, False otherwise.\n",
      " |      \n",
      " |      A string is lowercase if all cased characters in the string are lowercase and\n",
      " |      there is at least one cased character in the string.\n",
      " |  \n",
      " |  isnumeric(self, /)\n",
      " |      Return True if the string is a numeric string, False otherwise.\n",
      " |      \n",
      " |      A string is numeric if all characters in the string are numeric and there is at\n",
      " |      least one character in the string.\n",
      " |  \n",
      " |  isprintable(self, /)\n",
      " |      Return True if the string is printable, False otherwise.\n",
      " |      \n",
      " |      A string is printable if all of its characters are considered printable in\n",
      " |      repr() or if it is empty.\n",
      " |  \n",
      " |  isspace(self, /)\n",
      " |      Return True if the string is a whitespace string, False otherwise.\n",
      " |      \n",
      " |      A string is whitespace if all characters in the string are whitespace and there\n",
      " |      is at least one character in the string.\n",
      " |  \n",
      " |  istitle(self, /)\n",
      " |      Return True if the string is a title-cased string, False otherwise.\n",
      " |      \n",
      " |      In a title-cased string, upper- and title-case characters may only\n",
      " |      follow uncased characters and lowercase characters only cased ones.\n",
      " |  \n",
      " |  isupper(self, /)\n",
      " |      Return True if the string is an uppercase string, False otherwise.\n",
      " |      \n",
      " |      A string is uppercase if all cased characters in the string are uppercase and\n",
      " |      there is at least one cased character in the string.\n",
      " |  \n",
      " |  join(self, iterable, /)\n",
      " |      Concatenate any number of strings.\n",
      " |      \n",
      " |      The string whose method is called is inserted in between each given string.\n",
      " |      The result is returned as a new string.\n",
      " |      \n",
      " |      Example: '.'.join(['ab', 'pq', 'rs']) -> 'ab.pq.rs'\n",
      " |  \n",
      " |  ljust(self, width, fillchar=' ', /)\n",
      " |      Return a left-justified string of length width.\n",
      " |      \n",
      " |      Padding is done using the specified fill character (default is a space).\n",
      " |  \n",
      " |  lower(self, /)\n",
      " |      Return a copy of the string converted to lowercase.\n",
      " |  \n",
      " |  lstrip(self, chars=None, /)\n",
      " |      Return a copy of the string with leading whitespace removed.\n",
      " |      \n",
      " |      If chars is given and not None, remove characters in chars instead.\n",
      " |  \n",
      " |  partition(self, sep, /)\n",
      " |      Partition the string into three parts using the given separator.\n",
      " |      \n",
      " |      This will search for the separator in the string.  If the separator is found,\n",
      " |      returns a 3-tuple containing the part before the separator, the separator\n",
      " |      itself, and the part after it.\n",
      " |      \n",
      " |      If the separator is not found, returns a 3-tuple containing the original string\n",
      " |      and two empty strings.\n",
      " |  \n",
      " |  removeprefix(self, prefix, /)\n",
      " |      Return a str with the given prefix string removed if present.\n",
      " |      \n",
      " |      If the string starts with the prefix string, return string[len(prefix):].\n",
      " |      Otherwise, return a copy of the original string.\n",
      " |  \n",
      " |  removesuffix(self, suffix, /)\n",
      " |      Return a str with the given suffix string removed if present.\n",
      " |      \n",
      " |      If the string ends with the suffix string and that suffix is not empty,\n",
      " |      return string[:-len(suffix)]. Otherwise, return a copy of the original\n",
      " |      string.\n",
      " |  \n",
      " |  replace(self, old, new, count=-1, /)\n",
      " |      Return a copy with all occurrences of substring old replaced by new.\n",
      " |      \n",
      " |        count\n",
      " |          Maximum number of occurrences to replace.\n",
      " |          -1 (the default value) means replace all occurrences.\n",
      " |      \n",
      " |      If the optional argument count is given, only the first count occurrences are\n",
      " |      replaced.\n",
      " |  \n",
      " |  rfind(...)\n",
      " |      S.rfind(sub[, start[, end]]) -> int\n",
      " |      \n",
      " |      Return the highest index in S where substring sub is found,\n",
      " |      such that sub is contained within S[start:end].  Optional\n",
      " |      arguments start and end are interpreted as in slice notation.\n",
      " |      \n",
      " |      Return -1 on failure.\n",
      " |  \n",
      " |  rindex(...)\n",
      " |      S.rindex(sub[, start[, end]]) -> int\n",
      " |      \n",
      " |      Return the highest index in S where substring sub is found,\n",
      " |      such that sub is contained within S[start:end].  Optional\n",
      " |      arguments start and end are interpreted as in slice notation.\n",
      " |      \n",
      " |      Raises ValueError when the substring is not found.\n",
      " |  \n",
      " |  rjust(self, width, fillchar=' ', /)\n",
      " |      Return a right-justified string of length width.\n",
      " |      \n",
      " |      Padding is done using the specified fill character (default is a space).\n",
      " |  \n",
      " |  rpartition(self, sep, /)\n",
      " |      Partition the string into three parts using the given separator.\n",
      " |      \n",
      " |      This will search for the separator in the string, starting at the end. If\n",
      " |      the separator is found, returns a 3-tuple containing the part before the\n",
      " |      separator, the separator itself, and the part after it.\n",
      " |      \n",
      " |      If the separator is not found, returns a 3-tuple containing two empty strings\n",
      " |      and the original string.\n",
      " |  \n",
      " |  rsplit(self, /, sep=None, maxsplit=-1)\n",
      " |      Return a list of the substrings in the string, using sep as the separator string.\n",
      " |      \n",
      " |        sep\n",
      " |          The separator used to split the string.\n",
      " |      \n",
      " |          When set to None (the default value), will split on any whitespace\n",
      " |          character (including \\\\n \\\\r \\\\t \\\\f and spaces) and will discard\n",
      " |          empty strings from the result.\n",
      " |        maxsplit\n",
      " |          Maximum number of splits (starting from the left).\n",
      " |          -1 (the default value) means no limit.\n",
      " |      \n",
      " |      Splitting starts at the end of the string and works to the front.\n",
      " |  \n",
      " |  rstrip(self, chars=None, /)\n",
      " |      Return a copy of the string with trailing whitespace removed.\n",
      " |      \n",
      " |      If chars is given and not None, remove characters in chars instead.\n",
      " |  \n",
      " |  split(self, /, sep=None, maxsplit=-1)\n",
      " |      Return a list of the substrings in the string, using sep as the separator string.\n",
      " |      \n",
      " |        sep\n",
      " |          The separator used to split the string.\n",
      " |      \n",
      " |          When set to None (the default value), will split on any whitespace\n",
      " |          character (including \\\\n \\\\r \\\\t \\\\f and spaces) and will discard\n",
      " |          empty strings from the result.\n",
      " |        maxsplit\n",
      " |          Maximum number of splits (starting from the left).\n",
      " |          -1 (the default value) means no limit.\n",
      " |      \n",
      " |      Note, str.split() is mainly useful for data that has been intentionally\n",
      " |      delimited.  With natural text that includes punctuation, consider using\n",
      " |      the regular expression module.\n",
      " |  \n",
      " |  splitlines(self, /, keepends=False)\n",
      " |      Return a list of the lines in the string, breaking at line boundaries.\n",
      " |      \n",
      " |      Line breaks are not included in the resulting list unless keepends is given and\n",
      " |      true.\n",
      " |  \n",
      " |  startswith(...)\n",
      " |      S.startswith(prefix[, start[, end]]) -> bool\n",
      " |      \n",
      " |      Return True if S starts with the specified prefix, False otherwise.\n",
      " |      With optional start, test S beginning at that position.\n",
      " |      With optional end, stop comparing S at that position.\n",
      " |      prefix can also be a tuple of strings to try.\n",
      " |  \n",
      " |  strip(self, chars=None, /)\n",
      " |      Return a copy of the string with leading and trailing whitespace removed.\n",
      " |      \n",
      " |      If chars is given and not None, remove characters in chars instead.\n",
      " |  \n",
      " |  swapcase(self, /)\n",
      " |      Convert uppercase characters to lowercase and lowercase characters to uppercase.\n",
      " |  \n",
      " |  title(self, /)\n",
      " |      Return a version of the string where each word is titlecased.\n",
      " |      \n",
      " |      More specifically, words start with uppercased characters and all remaining\n",
      " |      cased characters have lower case.\n",
      " |  \n",
      " |  translate(self, table, /)\n",
      " |      Replace each character in the string using the given translation table.\n",
      " |      \n",
      " |        table\n",
      " |          Translation table, which must be a mapping of Unicode ordinals to\n",
      " |          Unicode ordinals, strings, or None.\n",
      " |      \n",
      " |      The table must implement lookup/indexing via __getitem__, for instance a\n",
      " |      dictionary or list.  If this operation raises LookupError, the character is\n",
      " |      left untouched.  Characters mapped to None are deleted.\n",
      " |  \n",
      " |  upper(self, /)\n",
      " |      Return a copy of the string converted to uppercase.\n",
      " |  \n",
      " |  zfill(self, width, /)\n",
      " |      Pad a numeric string with zeros on the left, to fill a field of the given width.\n",
      " |      \n",
      " |      The string is never truncated.\n",
      " |  \n",
      " |  ----------------------------------------------------------------------\n",
      " |  Static methods defined here:\n",
      " |  \n",
      " |  __new__(*args, **kwargs) from builtins.type\n",
      " |      Create and return a new object.  See help(type) for accurate signature.\n",
      " |  \n",
      " |  maketrans(...)\n",
      " |      Return a translation table usable for str.translate().\n",
      " |      \n",
      " |      If there is only one argument, it must be a dictionary mapping Unicode\n",
      " |      ordinals (integers) or characters to Unicode ordinals, strings or None.\n",
      " |      Character keys will be then converted to ordinals.\n",
      " |      If there are two arguments, they must be strings of equal length, and\n",
      " |      in the resulting dictionary, each character in x will be mapped to the\n",
      " |      character at the same position in y. If there is a third argument, it\n",
      " |      must be a string, whose characters will be mapped to None in the result.\n",
      "\n"
     ]
    }
   ],
   "source": [
    "help(str)"
   ]
  },
  {
   "cell_type": "markdown",
   "id": "72d4cbe3",
   "metadata": {},
   "source": [
    "64.What is a list in Python?"
   ]
  },
  {
   "cell_type": "markdown",
   "id": "b849ea1e",
   "metadata": {},
   "source": [
    "* A list in python is an ordered collection of values.List can hold values of different types and support operations remove,add,change value.\n",
    "* List have the type list\n"
   ]
  },
  {
   "cell_type": "markdown",
   "id": "f009e1d1",
   "metadata": {},
   "source": [
    "65.How do you create a list?"
   ]
  },
  {
   "cell_type": "markdown",
   "id": "e36a9daa",
   "metadata": {},
   "source": [
    "* To create a list, enclose a sequence of values within square bracket [ and ] separated by comma."
   ]
  },
  {
   "cell_type": "code",
   "execution_count": 11,
   "id": "c0577a94",
   "metadata": {},
   "outputs": [
    {
     "data": {
      "text/plain": [
       "['apple', 'grapes', 'kiwi']"
      ]
     },
     "execution_count": 11,
     "metadata": {},
     "output_type": "execute_result"
    }
   ],
   "source": [
    "fruit = [\"apple\",\"grapes\",'kiwi']\n",
    "fruit"
   ]
  },
  {
   "cell_type": "markdown",
   "id": "701586b3",
   "metadata": {},
   "source": [
    "66.Can a Python list contain values of different data types?"
   ]
  },
  {
   "cell_type": "markdown",
   "id": "21fe70c9",
   "metadata": {},
   "source": [
    "Yes, Python list can contain values of different data type."
   ]
  },
  {
   "cell_type": "code",
   "execution_count": 13,
   "id": "3d3c9bfc",
   "metadata": {},
   "outputs": [
    {
     "data": {
      "text/plain": [
       "[13, None, 'fruit', ['apple', 'grapes', 'kiwi'], True]"
      ]
     },
     "execution_count": 13,
     "metadata": {},
     "output_type": "execute_result"
    }
   ],
   "source": [
    "mixed_value =[13,None,\"fruit\",fruit,True]\n",
    "mixed_value"
   ]
  },
  {
   "cell_type": "markdown",
   "id": "2baefb96",
   "metadata": {},
   "source": [
    "67.Can a list contain another list as an element within it?"
   ]
  },
  {
   "cell_type": "markdown",
   "id": "56894652",
   "metadata": {},
   "source": [
    "Yes, it can contain  another list n element within it."
   ]
  },
  {
   "cell_type": "code",
   "execution_count": 14,
   "id": "50dbf8f3",
   "metadata": {},
   "outputs": [],
   "source": [
    "mark=[34,76,67,87]"
   ]
  },
  {
   "cell_type": "code",
   "execution_count": 16,
   "id": "f98a0c93",
   "metadata": {},
   "outputs": [
    {
     "data": {
      "text/plain": [
       "[[34, 76, 67, 87], 53, 79]"
      ]
     },
     "execution_count": 16,
     "metadata": {},
     "output_type": "execute_result"
    }
   ],
   "source": [
    "list_in_list = [mark,53,79]\n",
    "list_in_list"
   ]
  },
  {
   "cell_type": "markdown",
   "id": "d0a3733a",
   "metadata": {},
   "source": [
    "68.Can you create a list without any values?"
   ]
  },
  {
   "cell_type": "code",
   "execution_count": 17,
   "id": "406d6681",
   "metadata": {},
   "outputs": [],
   "source": [
    "empty_list = []"
   ]
  },
  {
   "cell_type": "code",
   "execution_count": 18,
   "id": "5607b219",
   "metadata": {},
   "outputs": [
    {
     "data": {
      "text/plain": [
       "[]"
      ]
     },
     "execution_count": 18,
     "metadata": {},
     "output_type": "execute_result"
    }
   ],
   "source": [
    "empty_list"
   ]
  },
  {
   "cell_type": "markdown",
   "id": "218cfffb",
   "metadata": {},
   "source": [
    "69.How do you check the length of a list in Python?"
   ]
  },
  {
   "cell_type": "markdown",
   "id": "d605d383",
   "metadata": {},
   "source": [
    "Using len() we can check length of a list in python"
   ]
  },
  {
   "cell_type": "code",
   "execution_count": 19,
   "id": "f1bae3f0",
   "metadata": {},
   "outputs": [
    {
     "data": {
      "text/plain": [
       "3"
      ]
     },
     "execution_count": 19,
     "metadata": {},
     "output_type": "execute_result"
    }
   ],
   "source": [
    "len(list_in_list)"
   ]
  },
  {
   "cell_type": "markdown",
   "id": "7866d8e5",
   "metadata": {},
   "source": [
    "70.How do you retrieve a value from a list?"
   ]
  },
  {
   "cell_type": "markdown",
   "id": "b708fdd8",
   "metadata": {},
   "source": [
    "Using  index inside square bracket [ ]."
   ]
  },
  {
   "cell_type": "code",
   "execution_count": 20,
   "id": "f08c3274",
   "metadata": {},
   "outputs": [],
   "source": [
    "fruits=[\"kiwi\",\"pineapple\",\"peach\"]"
   ]
  },
  {
   "cell_type": "code",
   "execution_count": 23,
   "id": "f570f95e",
   "metadata": {},
   "outputs": [
    {
     "data": {
      "text/plain": [
       "'peach'"
      ]
     },
     "execution_count": 23,
     "metadata": {},
     "output_type": "execute_result"
    }
   ],
   "source": [
    "fruits[2]"
   ]
  },
  {
   "cell_type": "markdown",
   "id": "ad7490d0",
   "metadata": {},
   "source": [
    "71.What is the smallest and largest index you can use to access elements from a list containing five elements?"
   ]
  },
  {
   "cell_type": "markdown",
   "id": "2c190136",
   "metadata": {},
   "source": [
    "Smallest index is 0 and largest index is 4"
   ]
  },
  {
   "cell_type": "code",
   "execution_count": 24,
   "id": "0dcb21bf",
   "metadata": {},
   "outputs": [],
   "source": [
    "list_1=[34,67,89,54,34]"
   ]
  },
  {
   "cell_type": "code",
   "execution_count": 25,
   "id": "a6b64769",
   "metadata": {},
   "outputs": [
    {
     "data": {
      "text/plain": [
       "34"
      ]
     },
     "execution_count": 25,
     "metadata": {},
     "output_type": "execute_result"
    }
   ],
   "source": [
    "list_1[0]"
   ]
  },
  {
   "cell_type": "code",
   "execution_count": 26,
   "id": "dd1df09d",
   "metadata": {},
   "outputs": [
    {
     "data": {
      "text/plain": [
       "34"
      ]
     },
     "execution_count": 26,
     "metadata": {},
     "output_type": "execute_result"
    }
   ],
   "source": [
    "list_1[4]"
   ]
  },
  {
   "cell_type": "markdown",
   "id": "48855914",
   "metadata": {},
   "source": [
    "72.What happens if you try to access an index equal to or larger than the size of a list?"
   ]
  },
  {
   "cell_type": "markdown",
   "id": "b04c8efd",
   "metadata": {},
   "source": [
    "It Will give error that is index out of range. If you give index equal to size that wrong because index starts with 0 which means 0,1,2,3,4 we get the size."
   ]
  },
  {
   "cell_type": "code",
   "execution_count": 27,
   "id": "462c988e",
   "metadata": {},
   "outputs": [
    {
     "ename": "IndexError",
     "evalue": "list index out of range",
     "output_type": "error",
     "traceback": [
      "\u001b[1;31m---------------------------------------------------------------------------\u001b[0m",
      "\u001b[1;31mIndexError\u001b[0m                                Traceback (most recent call last)",
      "Cell \u001b[1;32mIn[27], line 1\u001b[0m\n\u001b[1;32m----> 1\u001b[0m list_1[\u001b[38;5;241m5\u001b[39m]\n",
      "\u001b[1;31mIndexError\u001b[0m: list index out of range"
     ]
    }
   ],
   "source": [
    "list_1[5]"
   ]
  },
  {
   "cell_type": "code",
   "execution_count": 28,
   "id": "9266a103",
   "metadata": {},
   "outputs": [
    {
     "ename": "IndexError",
     "evalue": "list index out of range",
     "output_type": "error",
     "traceback": [
      "\u001b[1;31m---------------------------------------------------------------------------\u001b[0m",
      "\u001b[1;31mIndexError\u001b[0m                                Traceback (most recent call last)",
      "Cell \u001b[1;32mIn[28], line 1\u001b[0m\n\u001b[1;32m----> 1\u001b[0m list_1[\u001b[38;5;241m8\u001b[39m]\n",
      "\u001b[1;31mIndexError\u001b[0m: list index out of range"
     ]
    }
   ],
   "source": [
    "list_1[8]"
   ]
  },
  {
   "cell_type": "markdown",
   "id": "c0e412ef",
   "metadata": {},
   "source": [
    "73.What happens if you try to access a negative index within a list?"
   ]
  },
  {
   "cell_type": "markdown",
   "id": "9ccd6b6f",
   "metadata": {},
   "source": [
    "if We try to access negative index within list, it will give last index value. negative means reverse order."
   ]
  },
  {
   "cell_type": "code",
   "execution_count": 29,
   "id": "159fa587",
   "metadata": {},
   "outputs": [
    {
     "data": {
      "text/plain": [
       "54"
      ]
     },
     "execution_count": 29,
     "metadata": {},
     "output_type": "execute_result"
    }
   ],
   "source": [
    "list_1[-2]"
   ]
  },
  {
   "cell_type": "markdown",
   "id": "7ab7b5b2",
   "metadata": {},
   "source": [
    "74.How do you access a range of elements from a list?"
   ]
  },
  {
   "cell_type": "markdown",
   "id": "a19961f2",
   "metadata": {},
   "source": [
    "It is also accessed using index within square bracket []. Using colon as range indicater. "
   ]
  },
  {
   "cell_type": "code",
   "execution_count": 31,
   "id": "6324fc14",
   "metadata": {},
   "outputs": [],
   "source": [
    "list_2=[23,66,88,78,99,67]"
   ]
  },
  {
   "cell_type": "code",
   "execution_count": 32,
   "id": "5cf01d35",
   "metadata": {},
   "outputs": [
    {
     "data": {
      "text/plain": [
       "[88, 78, 99]"
      ]
     },
     "execution_count": 32,
     "metadata": {},
     "output_type": "execute_result"
    }
   ],
   "source": [
    "list_2[2:5]"
   ]
  },
  {
   "cell_type": "markdown",
   "id": "924ffe61",
   "metadata": {},
   "source": [
    "75.How many elements does the list returned by the expression a_list[2:5] contain?"
   ]
  },
  {
   "cell_type": "markdown",
   "id": "6aa3ab33",
   "metadata": {},
   "source": [
    "The expression a_list[2:5] contain 3 elements,becasue end index doesn't included.it will give element before end index."
   ]
  },
  {
   "cell_type": "code",
   "execution_count": 33,
   "id": "fbfbcdd3",
   "metadata": {},
   "outputs": [],
   "source": [
    "a_list=[True,45,56.7,\"car\",None,345]"
   ]
  },
  {
   "cell_type": "code",
   "execution_count": 34,
   "id": "95666ffc",
   "metadata": {},
   "outputs": [
    {
     "data": {
      "text/plain": [
       "[56.7, 'car', None]"
      ]
     },
     "execution_count": 34,
     "metadata": {},
     "output_type": "execute_result"
    }
   ],
   "source": [
    "a_list[2:5]"
   ]
  },
  {
   "cell_type": "markdown",
   "id": "76a660fd",
   "metadata": {},
   "source": [
    "76.What do the ranges a_list[:2] and a_list[2:] represent?"
   ]
  },
  {
   "cell_type": "markdown",
   "id": "120a4c49",
   "metadata": {},
   "source": [
    "* a_list[:2] repersent elements before index 2,means it will give value in 0 and 1 index.\n",
    "* a_list[2:] represent elements after index 2, means it will give value in 2 and util end index."
   ]
  },
  {
   "cell_type": "code",
   "execution_count": 35,
   "id": "e1ced11f",
   "metadata": {},
   "outputs": [
    {
     "data": {
      "text/plain": [
       "[True, 45]"
      ]
     },
     "execution_count": 35,
     "metadata": {},
     "output_type": "execute_result"
    }
   ],
   "source": [
    "a_list[:2]"
   ]
  },
  {
   "cell_type": "code",
   "execution_count": 36,
   "id": "8635f04e",
   "metadata": {},
   "outputs": [
    {
     "data": {
      "text/plain": [
       "[56.7, 'car', None, 345]"
      ]
     },
     "execution_count": 36,
     "metadata": {},
     "output_type": "execute_result"
    }
   ],
   "source": [
    "a_list[2:]"
   ]
  },
  {
   "cell_type": "markdown",
   "id": "66f7c406",
   "metadata": {},
   "source": [
    "77.How do you change the item stored at a specific index within a list?"
   ]
  },
  {
   "cell_type": "markdown",
   "id": "082d5a31",
   "metadata": {},
   "source": [
    "To change the value at a specific index within a list using the assignment operation."
   ]
  },
  {
   "cell_type": "code",
   "execution_count": 37,
   "id": "919b722f",
   "metadata": {},
   "outputs": [],
   "source": [
    "a_list[3]=\"bike\""
   ]
  },
  {
   "cell_type": "code",
   "execution_count": 38,
   "id": "946a917b",
   "metadata": {},
   "outputs": [
    {
     "data": {
      "text/plain": [
       "[True, 45, 56.7, 'bike', None, 345]"
      ]
     },
     "execution_count": 38,
     "metadata": {},
     "output_type": "execute_result"
    }
   ],
   "source": [
    "a_list"
   ]
  },
  {
   "cell_type": "markdown",
   "id": "08496a35",
   "metadata": {},
   "source": [
    "78.How do you insert a new item at the beginning, middle, or end of a list?"
   ]
  },
  {
   "cell_type": "markdown",
   "id": "a6ae17c7",
   "metadata": {},
   "source": [
    "To insert new item at the beginning,middle,end use .insert () method."
   ]
  },
  {
   "cell_type": "code",
   "execution_count": 40,
   "id": "75d6db8f",
   "metadata": {},
   "outputs": [
    {
     "data": {
      "text/plain": [
       "[False, False, True, 45, 56.7, 'bike', None, 345]"
      ]
     },
     "execution_count": 40,
     "metadata": {},
     "output_type": "execute_result"
    }
   ],
   "source": [
    "a_list.insert(0,False)\n",
    "a_list"
   ]
  },
  {
   "cell_type": "code",
   "execution_count": 41,
   "id": "177db913",
   "metadata": {},
   "outputs": [
    {
     "data": {
      "text/plain": [
       "[False, False, True, 78, 45, 56.7, 'bike', None, 345]"
      ]
     },
     "execution_count": 41,
     "metadata": {},
     "output_type": "execute_result"
    }
   ],
   "source": [
    "a_list.insert(3,78)\n",
    "a_list"
   ]
  },
  {
   "cell_type": "code",
   "execution_count": 44,
   "id": "09bf23ae",
   "metadata": {},
   "outputs": [
    {
     "data": {
      "text/plain": [
       "[False, False, True, 78, 45, 56.7, 'bike', None, 345, None, None]"
      ]
     },
     "execution_count": 44,
     "metadata": {},
     "output_type": "execute_result"
    }
   ],
   "source": [
    "a_list.insert(9,None)\n",
    "a_list"
   ]
  },
  {
   "cell_type": "markdown",
   "id": "b599b180",
   "metadata": {},
   "source": [
    "Also to insert new item to end use append() method."
   ]
  },
  {
   "cell_type": "code",
   "execution_count": 45,
   "id": "53d5e324",
   "metadata": {},
   "outputs": [
    {
     "data": {
      "text/plain": [
       "[False, False, True, 78, 45, 56.7, 'bike', None, 345, None, None, 67]"
      ]
     },
     "execution_count": 45,
     "metadata": {},
     "output_type": "execute_result"
    }
   ],
   "source": [
    "a_list.append(67)\n",
    "a_list"
   ]
  },
  {
   "cell_type": "markdown",
   "id": "986f445d",
   "metadata": {},
   "source": [
    "79.How do you remove an item from al list?"
   ]
  },
  {
   "cell_type": "markdown",
   "id": "aa8b0b30",
   "metadata": {},
   "source": [
    "To remove a item from list use .remove() method."
   ]
  },
  {
   "cell_type": "markdown",
   "id": "20c12257",
   "metadata": {},
   "source": [
    "Also can use pop method to remove item.it remove item based on given index."
   ]
  },
  {
   "cell_type": "code",
   "execution_count": 46,
   "id": "3a1536e5",
   "metadata": {},
   "outputs": [],
   "source": [
    "a_list.remove(None)"
   ]
  },
  {
   "cell_type": "code",
   "execution_count": 47,
   "id": "39df6ec2",
   "metadata": {},
   "outputs": [
    {
     "data": {
      "text/plain": [
       "[False, False, True, 78, 45, 56.7, 'bike', 345, None, None, 67]"
      ]
     },
     "execution_count": 47,
     "metadata": {},
     "output_type": "execute_result"
    }
   ],
   "source": [
    "a_list"
   ]
  },
  {
   "cell_type": "markdown",
   "id": "18183f93",
   "metadata": {},
   "source": [
    "80.How do you remove the item at a given index from a list?"
   ]
  },
  {
   "cell_type": "markdown",
   "id": "fd485f46",
   "metadata": {},
   "source": [
    "Pop method is used to remove a item at a given index from list.If you didn't give any index number inside pop it will remove end item or element from list."
   ]
  },
  {
   "cell_type": "code",
   "execution_count": 48,
   "id": "c41163f5",
   "metadata": {},
   "outputs": [
    {
     "data": {
      "text/plain": [
       "False"
      ]
     },
     "execution_count": 48,
     "metadata": {},
     "output_type": "execute_result"
    }
   ],
   "source": [
    "a_list.pop(0)"
   ]
  },
  {
   "cell_type": "code",
   "execution_count": 49,
   "id": "cf26a89b",
   "metadata": {},
   "outputs": [
    {
     "data": {
      "text/plain": [
       "[False, True, 78, 45, 56.7, 'bike', 345, None, None, 67]"
      ]
     },
     "execution_count": 49,
     "metadata": {},
     "output_type": "execute_result"
    }
   ],
   "source": [
    "a_list"
   ]
  },
  {
   "cell_type": "code",
   "execution_count": 50,
   "id": "d3e4dbc7",
   "metadata": {},
   "outputs": [
    {
     "data": {
      "text/plain": [
       "67"
      ]
     },
     "execution_count": 50,
     "metadata": {},
     "output_type": "execute_result"
    }
   ],
   "source": [
    "a_list.pop()"
   ]
  },
  {
   "cell_type": "code",
   "execution_count": 51,
   "id": "28daef6f",
   "metadata": {},
   "outputs": [
    {
     "data": {
      "text/plain": [
       "[False, True, 78, 45, 56.7, 'bike', 345, None, None]"
      ]
     },
     "execution_count": 51,
     "metadata": {},
     "output_type": "execute_result"
    }
   ],
   "source": [
    "a_list"
   ]
  },
  {
   "cell_type": "markdown",
   "id": "91a4dd9c",
   "metadata": {},
   "source": [
    "81.How do you check if a list contains a value?"
   ]
  },
  {
   "cell_type": "markdown",
   "id": "bfdacea8",
   "metadata": {},
   "source": [
    "You can test whether a list contains a value using the in operator. In operator test whether the list contains the value or not and return True or False."
   ]
  },
  {
   "cell_type": "code",
   "execution_count": 52,
   "id": "4a4bdb31",
   "metadata": {},
   "outputs": [
    {
     "data": {
      "text/plain": [
       "True"
      ]
     },
     "execution_count": 52,
     "metadata": {},
     "output_type": "execute_result"
    }
   ],
   "source": [
    "56.7 in a_list"
   ]
  },
  {
   "cell_type": "markdown",
   "id": "7cf9a9e7",
   "metadata": {},
   "source": [
    "82.How do you combine two or most lists to create a larger list?"
   ]
  },
  {
   "cell_type": "markdown",
   "id": "1043465c",
   "metadata": {},
   "source": [
    "To combine two or most list to create a larger list use + operator."
   ]
  },
  {
   "cell_type": "code",
   "execution_count": 53,
   "id": "3eaca7c7",
   "metadata": {},
   "outputs": [],
   "source": [
    "large_list=fruit+[23,788,788,677.888]+[True,False,None]"
   ]
  },
  {
   "cell_type": "code",
   "execution_count": 54,
   "id": "8d6691f0",
   "metadata": {},
   "outputs": [
    {
     "data": {
      "text/plain": [
       "['apple', 'grapes', 'kiwi', 23, 788, 788, 677.888, True, False, None]"
      ]
     },
     "execution_count": 54,
     "metadata": {},
     "output_type": "execute_result"
    }
   ],
   "source": [
    "large_list"
   ]
  },
  {
   "cell_type": "markdown",
   "id": "99dd1be0",
   "metadata": {},
   "source": [
    "83.How do you create a copy of a list?"
   ]
  },
  {
   "cell_type": "markdown",
   "id": "561e1274",
   "metadata": {},
   "source": [
    "To create copy of a list use .copy () method."
   ]
  },
  {
   "cell_type": "code",
   "execution_count": 55,
   "id": "068107db",
   "metadata": {},
   "outputs": [],
   "source": [
    "a_list_copy = a_list.copy()"
   ]
  },
  {
   "cell_type": "code",
   "execution_count": 56,
   "id": "16fe9b51",
   "metadata": {},
   "outputs": [
    {
     "data": {
      "text/plain": [
       "[False, True, 78, 45, 56.7, 'bike', 345, None, None]"
      ]
     },
     "execution_count": 56,
     "metadata": {},
     "output_type": "execute_result"
    }
   ],
   "source": [
    "a_list_copy"
   ]
  },
  {
   "cell_type": "markdown",
   "id": "466d1a3c",
   "metadata": {},
   "source": [
    "84.Does the expression a_new_list = a_list create a copy of the list a_list?"
   ]
  },
  {
   "cell_type": "code",
   "execution_count": 57,
   "id": "838e0d82",
   "metadata": {},
   "outputs": [],
   "source": [
    "a_new_list=a_list"
   ]
  },
  {
   "cell_type": "code",
   "execution_count": 58,
   "id": "8790be7c",
   "metadata": {},
   "outputs": [
    {
     "data": {
      "text/plain": [
       "[False, True, 78, 45, 56.7, 'bike', 345, None, None]"
      ]
     },
     "execution_count": 58,
     "metadata": {},
     "output_type": "execute_result"
    }
   ],
   "source": [
    "a_new_list"
   ]
  },
  {
   "cell_type": "code",
   "execution_count": 59,
   "id": "7aed4b04",
   "metadata": {},
   "outputs": [],
   "source": [
    "a_new_list[3]=\"car\""
   ]
  },
  {
   "cell_type": "code",
   "execution_count": 60,
   "id": "c162d874",
   "metadata": {},
   "outputs": [
    {
     "data": {
      "text/plain": [
       "[False, True, 78, 'car', 56.7, 'bike', 345, None, None]"
      ]
     },
     "execution_count": 60,
     "metadata": {},
     "output_type": "execute_result"
    }
   ],
   "source": [
    "a_list"
   ]
  },
  {
   "cell_type": "markdown",
   "id": "2b028942",
   "metadata": {},
   "source": [
    "No, it doesn't create copy of a_list. it give's reference of a_list.If you change in a_new_list it will  affect a_list."
   ]
  },
  {
   "cell_type": "markdown",
   "id": "12f33439",
   "metadata": {},
   "source": [
    "85.Where can you find the list of all the methods supported by lists?"
   ]
  },
  {
   "cell_type": "markdown",
   "id": "faff0c0a",
   "metadata": {},
   "source": [
    "We can find in python official documentation \"docs.python.org string\" in this link you can find it. inside this docmentation it is under python list methods topic."
   ]
  },
  {
   "cell_type": "markdown",
   "id": "3d8eec5c",
   "metadata": {},
   "source": [
    "You can also use help function to find it"
   ]
  },
  {
   "cell_type": "code",
   "execution_count": 19,
   "id": "e6016367",
   "metadata": {},
   "outputs": [
    {
     "name": "stdout",
     "output_type": "stream",
     "text": [
      "Help on class list in module builtins:\n",
      "\n",
      "class list(object)\n",
      " |  list(iterable=(), /)\n",
      " |  \n",
      " |  Built-in mutable sequence.\n",
      " |  \n",
      " |  If no argument is given, the constructor creates a new empty list.\n",
      " |  The argument must be an iterable if specified.\n",
      " |  \n",
      " |  Methods defined here:\n",
      " |  \n",
      " |  __add__(self, value, /)\n",
      " |      Return self+value.\n",
      " |  \n",
      " |  __contains__(self, key, /)\n",
      " |      Return key in self.\n",
      " |  \n",
      " |  __delitem__(self, key, /)\n",
      " |      Delete self[key].\n",
      " |  \n",
      " |  __eq__(self, value, /)\n",
      " |      Return self==value.\n",
      " |  \n",
      " |  __ge__(self, value, /)\n",
      " |      Return self>=value.\n",
      " |  \n",
      " |  __getattribute__(self, name, /)\n",
      " |      Return getattr(self, name).\n",
      " |  \n",
      " |  __getitem__(...)\n",
      " |      x.__getitem__(y) <==> x[y]\n",
      " |  \n",
      " |  __gt__(self, value, /)\n",
      " |      Return self>value.\n",
      " |  \n",
      " |  __iadd__(self, value, /)\n",
      " |      Implement self+=value.\n",
      " |  \n",
      " |  __imul__(self, value, /)\n",
      " |      Implement self*=value.\n",
      " |  \n",
      " |  __init__(self, /, *args, **kwargs)\n",
      " |      Initialize self.  See help(type(self)) for accurate signature.\n",
      " |  \n",
      " |  __iter__(self, /)\n",
      " |      Implement iter(self).\n",
      " |  \n",
      " |  __le__(self, value, /)\n",
      " |      Return self<=value.\n",
      " |  \n",
      " |  __len__(self, /)\n",
      " |      Return len(self).\n",
      " |  \n",
      " |  __lt__(self, value, /)\n",
      " |      Return self<value.\n",
      " |  \n",
      " |  __mul__(self, value, /)\n",
      " |      Return self*value.\n",
      " |  \n",
      " |  __ne__(self, value, /)\n",
      " |      Return self!=value.\n",
      " |  \n",
      " |  __repr__(self, /)\n",
      " |      Return repr(self).\n",
      " |  \n",
      " |  __reversed__(self, /)\n",
      " |      Return a reverse iterator over the list.\n",
      " |  \n",
      " |  __rmul__(self, value, /)\n",
      " |      Return value*self.\n",
      " |  \n",
      " |  __setitem__(self, key, value, /)\n",
      " |      Set self[key] to value.\n",
      " |  \n",
      " |  __sizeof__(self, /)\n",
      " |      Return the size of the list in memory, in bytes.\n",
      " |  \n",
      " |  append(self, object, /)\n",
      " |      Append object to the end of the list.\n",
      " |  \n",
      " |  clear(self, /)\n",
      " |      Remove all items from list.\n",
      " |  \n",
      " |  copy(self, /)\n",
      " |      Return a shallow copy of the list.\n",
      " |  \n",
      " |  count(self, value, /)\n",
      " |      Return number of occurrences of value.\n",
      " |  \n",
      " |  extend(self, iterable, /)\n",
      " |      Extend list by appending elements from the iterable.\n",
      " |  \n",
      " |  index(self, value, start=0, stop=9223372036854775807, /)\n",
      " |      Return first index of value.\n",
      " |      \n",
      " |      Raises ValueError if the value is not present.\n",
      " |  \n",
      " |  insert(self, index, object, /)\n",
      " |      Insert object before index.\n",
      " |  \n",
      " |  pop(self, index=-1, /)\n",
      " |      Remove and return item at index (default last).\n",
      " |      \n",
      " |      Raises IndexError if list is empty or index is out of range.\n",
      " |  \n",
      " |  remove(self, value, /)\n",
      " |      Remove first occurrence of value.\n",
      " |      \n",
      " |      Raises ValueError if the value is not present.\n",
      " |  \n",
      " |  reverse(self, /)\n",
      " |      Reverse *IN PLACE*.\n",
      " |  \n",
      " |  sort(self, /, *, key=None, reverse=False)\n",
      " |      Sort the list in ascending order and return None.\n",
      " |      \n",
      " |      The sort is in-place (i.e. the list itself is modified) and stable (i.e. the\n",
      " |      order of two equal elements is maintained).\n",
      " |      \n",
      " |      If a key function is given, apply it once to each list item and sort them,\n",
      " |      ascending or descending, according to their function values.\n",
      " |      \n",
      " |      The reverse flag can be set to sort in descending order.\n",
      " |  \n",
      " |  ----------------------------------------------------------------------\n",
      " |  Class methods defined here:\n",
      " |  \n",
      " |  __class_getitem__(...) from builtins.type\n",
      " |      See PEP 585\n",
      " |  \n",
      " |  ----------------------------------------------------------------------\n",
      " |  Static methods defined here:\n",
      " |  \n",
      " |  __new__(*args, **kwargs) from builtins.type\n",
      " |      Create and return a new object.  See help(type) for accurate signature.\n",
      " |  \n",
      " |  ----------------------------------------------------------------------\n",
      " |  Data and other attributes defined here:\n",
      " |  \n",
      " |  __hash__ = None\n",
      "\n"
     ]
    }
   ],
   "source": [
    "help(list)"
   ]
  },
  {
   "cell_type": "markdown",
   "id": "5cf6cd64",
   "metadata": {},
   "source": [
    "86.What is a Tuple in Python?"
   ]
  },
  {
   "cell_type": "markdown",
   "id": "6e4a68ce",
   "metadata": {},
   "source": [
    "* Stored values in normal brackets ()\n",
    "* Values in order ways\n",
    "* Cannot change or remove or add in it.\n",
    "* order  collection of values,similar to list\n",
    "* tuple is immutable\n",
    "* it has tuple data type"
   ]
  },
  {
   "cell_type": "code",
   "execution_count": 1,
   "id": "66bb4a92",
   "metadata": {},
   "outputs": [],
   "source": [
    "tuple_1=(\"a\",\"b\",\"c\",\"d\")"
   ]
  },
  {
   "cell_type": "code",
   "execution_count": 2,
   "id": "2db14801",
   "metadata": {},
   "outputs": [
    {
     "data": {
      "text/plain": [
       "('a', 'b', 'c', 'd')"
      ]
     },
     "execution_count": 2,
     "metadata": {},
     "output_type": "execute_result"
    }
   ],
   "source": [
    "tuple_1"
   ]
  },
  {
   "cell_type": "markdown",
   "id": "8f6058b8",
   "metadata": {},
   "source": [
    "87.How is a tuple different from a list?"
   ]
  },
  {
   "cell_type": "markdown",
   "id": "72b9266c",
   "metadata": {},
   "source": [
    "* Tuple is created within normal brackets ( ) but list is created within square brackets [].\n",
    "* Tuple is immutable means cannot add or change or remove, but list is mutable means we can add,change and also remove values.\n",
    "* when you try to copy the tuple, you get a new reference to the same tuple,but list can copyed using copy method."
   ]
  },
  {
   "cell_type": "markdown",
   "id": "f6e3e545",
   "metadata": {},
   "source": [
    "88.Can you add or remove elements in a tuple?"
   ]
  },
  {
   "cell_type": "markdown",
   "id": "92eae088",
   "metadata": {},
   "source": [
    "We cann't add or remove elements in tuple,because it is immutable.if you do that it will give error"
   ]
  },
  {
   "cell_type": "code",
   "execution_count": 3,
   "id": "7bae8c23",
   "metadata": {},
   "outputs": [
    {
     "ename": "TypeError",
     "evalue": "'tuple' object does not support item assignment",
     "output_type": "error",
     "traceback": [
      "\u001b[1;31m---------------------------------------------------------------------------\u001b[0m",
      "\u001b[1;31mTypeError\u001b[0m                                 Traceback (most recent call last)",
      "Cell \u001b[1;32mIn[3], line 1\u001b[0m\n\u001b[1;32m----> 1\u001b[0m tuple_1[\u001b[38;5;241m0\u001b[39m]\u001b[38;5;241m=\u001b[39m\u001b[38;5;241m34\u001b[39m\n",
      "\u001b[1;31mTypeError\u001b[0m: 'tuple' object does not support item assignment"
     ]
    }
   ],
   "source": [
    "tuple_1[0]=34"
   ]
  },
  {
   "cell_type": "code",
   "execution_count": 4,
   "id": "d3335e05",
   "metadata": {},
   "outputs": [
    {
     "ename": "AttributeError",
     "evalue": "'tuple' object has no attribute 'pop'",
     "output_type": "error",
     "traceback": [
      "\u001b[1;31m---------------------------------------------------------------------------\u001b[0m",
      "\u001b[1;31mAttributeError\u001b[0m                            Traceback (most recent call last)",
      "Cell \u001b[1;32mIn[4], line 1\u001b[0m\n\u001b[1;32m----> 1\u001b[0m tuple_1\u001b[38;5;241m.\u001b[39mpop()\n",
      "\u001b[1;31mAttributeError\u001b[0m: 'tuple' object has no attribute 'pop'"
     ]
    }
   ],
   "source": [
    "tuple_1.pop()"
   ]
  },
  {
   "cell_type": "markdown",
   "id": "7db62545",
   "metadata": {},
   "source": [
    "89.How do you create a tuple with just one element?"
   ]
  },
  {
   "cell_type": "markdown",
   "id": "80ba2db8",
   "metadata": {},
   "source": [
    "You can also create a tuple with just one element by typing a comma after it. Just wrapping it with parentheses ( and ) won't make it a tuple"
   ]
  },
  {
   "cell_type": "code",
   "execution_count": 5,
   "id": "27b3c149",
   "metadata": {},
   "outputs": [],
   "source": [
    "tuple_2=45,"
   ]
  },
  {
   "cell_type": "code",
   "execution_count": 6,
   "id": "6391a8af",
   "metadata": {},
   "outputs": [
    {
     "data": {
      "text/plain": [
       "(45,)"
      ]
     },
     "execution_count": 6,
     "metadata": {},
     "output_type": "execute_result"
    }
   ],
   "source": [
    "tuple_2"
   ]
  },
  {
   "cell_type": "code",
   "execution_count": 7,
   "id": "5c96e341",
   "metadata": {},
   "outputs": [],
   "source": [
    "tuple_3=(4)"
   ]
  },
  {
   "cell_type": "code",
   "execution_count": 8,
   "id": "5d5b8f48",
   "metadata": {},
   "outputs": [
    {
     "data": {
      "text/plain": [
       "4"
      ]
     },
     "execution_count": 8,
     "metadata": {},
     "output_type": "execute_result"
    }
   ],
   "source": [
    "tuple_3"
   ]
  },
  {
   "cell_type": "markdown",
   "id": "1f83bff5",
   "metadata": {},
   "source": [
    "90.How do you convert a tuple to a list and vice versa?"
   ]
  },
  {
   "cell_type": "markdown",
   "id": "541b1ad1",
   "metadata": {},
   "source": [
    "* You can use tuple function to convert list to tuple.\n",
    "* Same use list function to convert tuple to list."
   ]
  },
  {
   "cell_type": "code",
   "execution_count": 9,
   "id": "6bb31527",
   "metadata": {},
   "outputs": [],
   "source": [
    "tuple_4=(2,4,6,8)"
   ]
  },
  {
   "cell_type": "code",
   "execution_count": 10,
   "id": "f5213eac",
   "metadata": {},
   "outputs": [
    {
     "data": {
      "text/plain": [
       "(2, 4, 6, 8)"
      ]
     },
     "execution_count": 10,
     "metadata": {},
     "output_type": "execute_result"
    }
   ],
   "source": [
    "tuple_4"
   ]
  },
  {
   "cell_type": "code",
   "execution_count": 12,
   "id": "bd3bc1c1",
   "metadata": {},
   "outputs": [],
   "source": [
    "list_5=[2,54,67,886]"
   ]
  },
  {
   "cell_type": "code",
   "execution_count": 13,
   "id": "c21e1c7a",
   "metadata": {},
   "outputs": [
    {
     "data": {
      "text/plain": [
       "[2, 54, 67, 886]"
      ]
     },
     "execution_count": 13,
     "metadata": {},
     "output_type": "execute_result"
    }
   ],
   "source": [
    "list_5"
   ]
  },
  {
   "cell_type": "code",
   "execution_count": 14,
   "id": "a2fdfa49",
   "metadata": {},
   "outputs": [
    {
     "data": {
      "text/plain": [
       "(2, 54, 67, 886)"
      ]
     },
     "execution_count": 14,
     "metadata": {},
     "output_type": "execute_result"
    }
   ],
   "source": [
    "tuple(list_5)"
   ]
  },
  {
   "cell_type": "code",
   "execution_count": 15,
   "id": "9b464730",
   "metadata": {},
   "outputs": [
    {
     "data": {
      "text/plain": [
       "[2, 4, 6, 8]"
      ]
     },
     "execution_count": 15,
     "metadata": {},
     "output_type": "execute_result"
    }
   ],
   "source": [
    "list(tuple_4)"
   ]
  },
  {
   "cell_type": "markdown",
   "id": "01125bdf",
   "metadata": {},
   "source": [
    "91.What are the count and index method of a Tuple used for?"
   ]
  },
  {
   "cell_type": "code",
   "execution_count": 16,
   "id": "d0583e34",
   "metadata": {},
   "outputs": [
    {
     "name": "stdout",
     "output_type": "stream",
     "text": [
      "Help on method_descriptor:\n",
      "\n",
      "count(self, value, /)\n",
      "    Return number of occurrences of value.\n",
      "\n"
     ]
    }
   ],
   "source": [
    "help(tuple.count)"
   ]
  },
  {
   "cell_type": "markdown",
   "id": "b24287fc",
   "metadata": {},
   "source": [
    "Count method used to get number of occirrences of value."
   ]
  },
  {
   "cell_type": "code",
   "execution_count": 30,
   "id": "975bd83c",
   "metadata": {},
   "outputs": [],
   "source": [
    "help(tuple.index)"
   ]
  },
  {
   "cell_type": "markdown",
   "id": "68e6700c",
   "metadata": {},
   "source": [
    "index method used to get first index of value.Raises valueError if the value is not present."
   ]
  },
  {
   "cell_type": "code",
   "execution_count": 33,
   "id": "fd25ac70",
   "metadata": {},
   "outputs": [],
   "source": [
    "?tuple_1.index"
   ]
  },
  {
   "cell_type": "markdown",
   "id": "09b218e0",
   "metadata": {},
   "source": [
    "92.What is a dictionary in Python?"
   ]
  },
  {
   "cell_type": "markdown",
   "id": "9122955c",
   "metadata": {},
   "source": [
    "A dictionary is an unordered collection of items. Each item stored in a dictionary as keys and values."
   ]
  },
  {
   "cell_type": "markdown",
   "id": "37d4d594",
   "metadata": {},
   "source": [
    "You can use a key to retrieve the corresponding value from dictionary.dictionary data type is dict."
   ]
  },
  {
   "cell_type": "markdown",
   "id": "c0cf6480",
   "metadata": {},
   "source": [
    "93.How do you create a dictionary?"
   ]
  },
  {
   "cell_type": "markdown",
   "id": "57284bb8",
   "metadata": {},
   "source": [
    "Dictionaries are created by enclosing key-value pairs within curly braces."
   ]
  },
  {
   "cell_type": "markdown",
   "id": "2e107e17",
   "metadata": {},
   "source": [
    "Dictionary can also be created using dict () function."
   ]
  },
  {
   "cell_type": "code",
   "execution_count": 34,
   "id": "d8fa181c",
   "metadata": {},
   "outputs": [],
   "source": [
    "dictionary_1={\n",
    "    'Fruit':'apple',\n",
    "    'price':120,\n",
    "    'Kg':1\n",
    "}"
   ]
  },
  {
   "cell_type": "code",
   "execution_count": 35,
   "id": "73ab52e5",
   "metadata": {},
   "outputs": [
    {
     "data": {
      "text/plain": [
       "{'Fruit': 'apple', 'price': 120, 'Kg': 1}"
      ]
     },
     "execution_count": 35,
     "metadata": {},
     "output_type": "execute_result"
    }
   ],
   "source": [
    "dictionary_1"
   ]
  },
  {
   "cell_type": "code",
   "execution_count": 36,
   "id": "6155c2a9",
   "metadata": {},
   "outputs": [],
   "source": [
    "dictionary_2=dict(fruit='pineapple',kg=1,price=150)"
   ]
  },
  {
   "cell_type": "code",
   "execution_count": 37,
   "id": "953433bf",
   "metadata": {},
   "outputs": [
    {
     "data": {
      "text/plain": [
       "{'fruit': 'pineapple', 'kg': 1, 'price': 150}"
      ]
     },
     "execution_count": 37,
     "metadata": {},
     "output_type": "execute_result"
    }
   ],
   "source": [
    "dictionary_2"
   ]
  },
  {
   "cell_type": "markdown",
   "id": "3a6b449f",
   "metadata": {},
   "source": [
    "94.What are keys and values?"
   ]
  },
  {
   "cell_type": "markdown",
   "id": "96225b77",
   "metadata": {},
   "source": [
    "* keys are any immutable data type such as number,integer like..\n",
    "* key is used to get value from dictionary.\n",
    "* value is mutable data's\n",
    "* it can be any data"
   ]
  },
  {
   "cell_type": "markdown",
   "id": "621b2bc0",
   "metadata": {},
   "source": [
    "95.How do you access the value associated with a specific key in a dictionary?"
   ]
  },
  {
   "cell_type": "markdown",
   "id": "ceaab213",
   "metadata": {},
   "source": [
    "Key can also be used to access value using square braces.Syntax variablename[\"key\"]"
   ]
  },
  {
   "cell_type": "markdown",
   "id": "1f478dd3",
   "metadata": {},
   "source": [
    "you can also use get method to access the value associated with key."
   ]
  },
  {
   "cell_type": "code",
   "execution_count": 39,
   "id": "742b8440",
   "metadata": {},
   "outputs": [
    {
     "data": {
      "text/plain": [
       "'apple'"
      ]
     },
     "execution_count": 39,
     "metadata": {},
     "output_type": "execute_result"
    }
   ],
   "source": [
    "dictionary_1[\"Fruit\"]"
   ]
  },
  {
   "cell_type": "code",
   "execution_count": 41,
   "id": "55a08ee6",
   "metadata": {},
   "outputs": [
    {
     "data": {
      "text/plain": [
       "120"
      ]
     },
     "execution_count": 41,
     "metadata": {},
     "output_type": "execute_result"
    }
   ],
   "source": [
    "dictionary_1.get('price')"
   ]
  },
  {
   "cell_type": "markdown",
   "id": "b0e6679c",
   "metadata": {},
   "source": [
    "96.What happens if you try to access the value for a key that doesn't exist in a dictionary?"
   ]
  },
  {
   "cell_type": "markdown",
   "id": "a8326140",
   "metadata": {},
   "source": [
    "if I try to access value for a key that doesn't exist in a dictionary it will give keyError."
   ]
  },
  {
   "cell_type": "code",
   "execution_count": 42,
   "id": "fdb0e541",
   "metadata": {},
   "outputs": [
    {
     "ename": "KeyError",
     "evalue": "'age'",
     "output_type": "error",
     "traceback": [
      "\u001b[1;31m---------------------------------------------------------------------------\u001b[0m",
      "\u001b[1;31mKeyError\u001b[0m                                  Traceback (most recent call last)",
      "Cell \u001b[1;32mIn[42], line 1\u001b[0m\n\u001b[1;32m----> 1\u001b[0m dictionary_1[\u001b[38;5;124m'\u001b[39m\u001b[38;5;124mage\u001b[39m\u001b[38;5;124m'\u001b[39m]\n",
      "\u001b[1;31mKeyError\u001b[0m: 'age'"
     ]
    }
   ],
   "source": [
    "dictionary_1['age']"
   ]
  },
  {
   "cell_type": "markdown",
   "id": "9a88f4a2",
   "metadata": {},
   "source": [
    "97.What is the .get method of a dictionary used for?"
   ]
  },
  {
   "cell_type": "markdown",
   "id": "95ffd87e",
   "metadata": {},
   "source": [
    ".Get method is used to access the value associated with key. get method also accpet a default value."
   ]
  },
  {
   "cell_type": "code",
   "execution_count": 43,
   "id": "095736b9",
   "metadata": {},
   "outputs": [
    {
     "data": {
      "text/plain": [
       "1"
      ]
     },
     "execution_count": 43,
     "metadata": {},
     "output_type": "execute_result"
    }
   ],
   "source": [
    "dictionary_2.get('kg')"
   ]
  },
  {
   "cell_type": "markdown",
   "id": "01eae274",
   "metadata": {},
   "source": [
    "98.How do you change the value associated with a key in a dictionary?"
   ]
  },
  {
   "cell_type": "markdown",
   "id": "bfbc6eaf",
   "metadata": {},
   "source": [
    "To change the value associated with key in a dictionary use assignment operator."
   ]
  },
  {
   "cell_type": "code",
   "execution_count": 44,
   "id": "4aea4523",
   "metadata": {},
   "outputs": [],
   "source": [
    "dictionary_2['kg']=2"
   ]
  },
  {
   "cell_type": "code",
   "execution_count": 45,
   "id": "c33b5839",
   "metadata": {},
   "outputs": [
    {
     "data": {
      "text/plain": [
       "{'fruit': 'pineapple', 'kg': 2, 'price': 150}"
      ]
     },
     "execution_count": 45,
     "metadata": {},
     "output_type": "execute_result"
    }
   ],
   "source": [
    "dictionary_2"
   ]
  },
  {
   "cell_type": "markdown",
   "id": "04c99c03",
   "metadata": {},
   "source": [
    "99.How do you add or remove a key-value pair in a dictionary?"
   ]
  },
  {
   "cell_type": "markdown",
   "id": "a01f8592",
   "metadata": {},
   "source": [
    "To add key-value pairs same use assignment operator.\n",
    "To remove key-value pair in dictionary use pop method."
   ]
  },
  {
   "cell_type": "code",
   "execution_count": 46,
   "id": "f20b523a",
   "metadata": {},
   "outputs": [],
   "source": [
    "dictionary_2['bought']=True"
   ]
  },
  {
   "cell_type": "code",
   "execution_count": 47,
   "id": "a4af77a3",
   "metadata": {},
   "outputs": [
    {
     "data": {
      "text/plain": [
       "{'fruit': 'pineapple', 'kg': 2, 'price': 150, 'bought': True}"
      ]
     },
     "execution_count": 47,
     "metadata": {},
     "output_type": "execute_result"
    }
   ],
   "source": [
    "dictionary_2"
   ]
  },
  {
   "cell_type": "code",
   "execution_count": 48,
   "id": "35c445a3",
   "metadata": {},
   "outputs": [
    {
     "data": {
      "text/plain": [
       "True"
      ]
     },
     "execution_count": 48,
     "metadata": {},
     "output_type": "execute_result"
    }
   ],
   "source": [
    "dictionary_2.pop('bought')"
   ]
  },
  {
   "cell_type": "code",
   "execution_count": 49,
   "id": "bfaf7634",
   "metadata": {},
   "outputs": [
    {
     "data": {
      "text/plain": [
       "{'fruit': 'pineapple', 'kg': 2, 'price': 150}"
      ]
     },
     "execution_count": 49,
     "metadata": {},
     "output_type": "execute_result"
    }
   ],
   "source": [
    "dictionary_2"
   ]
  },
  {
   "cell_type": "markdown",
   "id": "9b1754ca",
   "metadata": {},
   "source": [
    "100.How do you access the keys, values, and key-value pairs within a dictionary?"
   ]
  },
  {
   "cell_type": "markdown",
   "id": "e8f69f15",
   "metadata": {},
   "source": [
    "* To access keys use .keys() function.\n",
    "* To access values use .values() function.\n",
    "* To access key-value pairs use .items() function."
   ]
  },
  {
   "cell_type": "code",
   "execution_count": 50,
   "id": "1ff71449",
   "metadata": {},
   "outputs": [
    {
     "data": {
      "text/plain": [
       "dict_keys(['Fruit', 'price', 'Kg'])"
      ]
     },
     "execution_count": 50,
     "metadata": {},
     "output_type": "execute_result"
    }
   ],
   "source": [
    "dictionary_1.keys()"
   ]
  },
  {
   "cell_type": "code",
   "execution_count": 51,
   "id": "e344d9d0",
   "metadata": {},
   "outputs": [
    {
     "data": {
      "text/plain": [
       "dict_values(['apple', 120, 1])"
      ]
     },
     "execution_count": 51,
     "metadata": {},
     "output_type": "execute_result"
    }
   ],
   "source": [
    "dictionary_1.values()"
   ]
  },
  {
   "cell_type": "code",
   "execution_count": 52,
   "id": "5b1de66f",
   "metadata": {},
   "outputs": [
    {
     "data": {
      "text/plain": [
       "dict_items([('Fruit', 'apple'), ('price', 120), ('Kg', 1)])"
      ]
     },
     "execution_count": 52,
     "metadata": {},
     "output_type": "execute_result"
    }
   ],
   "source": [
    "dictionary_1.items()"
   ]
  },
  {
   "cell_type": "markdown",
   "id": "f100e634",
   "metadata": {},
   "source": [
    "The results of keys, values, and items look like lists."
   ]
  }
 ],
 "metadata": {
  "kernelspec": {
   "display_name": "Python 3 (ipykernel)",
   "language": "python",
   "name": "python3"
  },
  "language_info": {
   "codemirror_mode": {
    "name": "ipython",
    "version": 3
   },
   "file_extension": ".py",
   "mimetype": "text/x-python",
   "name": "python",
   "nbconvert_exporter": "python",
   "pygments_lexer": "ipython3",
   "version": "3.11.5"
  }
 },
 "nbformat": 4,
 "nbformat_minor": 5
}
